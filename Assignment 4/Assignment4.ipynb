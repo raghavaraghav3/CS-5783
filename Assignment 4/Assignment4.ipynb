{
  "nbformat": 4,
  "nbformat_minor": 0,
  "metadata": {
    "colab": {
      "provenance": [],
      "mount_file_id": "1itebUG4fkUlQAg5zIdPUqsiACfdc9P0_",
      "authorship_tag": "ABX9TyM+NzybH8sYLvSjYAwmcop/",
      "include_colab_link": true
    },
    "kernelspec": {
      "name": "python3",
      "display_name": "Python 3"
    },
    "language_info": {
      "name": "python"
    }
  },
  "cells": [
    {
      "cell_type": "markdown",
      "metadata": {
        "id": "view-in-github",
        "colab_type": "text"
      },
      "source": [
        "<a href=\"https://colab.research.google.com/github/raghavaraghav3/CS-5783/blob/main/Assignment%204/Assignment4.ipynb\" target=\"_parent\"><img src=\"https://colab.research.google.com/assets/colab-badge.svg\" alt=\"Open In Colab\"/></a>"
      ]
    },
    {
      "cell_type": "code",
      "execution_count": 1,
      "metadata": {
        "id": "x936YMAws1lY"
      },
      "outputs": [],
      "source": [
        "import pandas as pd\n",
        "import math\n",
        "import statistics as s\n",
        "import numpy as np\n",
        "from sklearn.tree import DecisionTreeClassifier as DT\n",
        "from sklearn.metrics import accuracy_score\n",
        "from sklearn import tree\n",
        "import matplotlib.pyplot as plt\n",
        "from operator import itemgetter\n",
        "import random"
      ]
    },
    {
      "cell_type": "markdown",
      "source": [
        "**Question 1**"
      ],
      "metadata": {
        "id": "hmjt43TFfjGa"
      }
    },
    {
      "cell_type": "code",
      "source": [
        "from google.colab import drive\n",
        "drive.mount('/content/drive')"
      ],
      "metadata": {
        "colab": {
          "base_uri": "https://localhost:8080/"
        },
        "id": "nMwv7pGz1bRO",
        "outputId": "9889d272-652e-418e-9346-ee9f01829a10"
      },
      "execution_count": 2,
      "outputs": [
        {
          "output_type": "stream",
          "name": "stdout",
          "text": [
            "Drive already mounted at /content/drive; to attempt to forcibly remount, call drive.mount(\"/content/drive\", force_remount=True).\n"
          ]
        }
      ]
    },
    {
      "cell_type": "code",
      "source": [
        "df = pd.read_excel('/content/drive/MyDrive/ML Practice/OSU_ML/Assignment4/Asssignment4_Data.xlsx')\n",
        "df"
      ],
      "metadata": {
        "id": "VDLs_UMJJp-2",
        "colab": {
          "base_uri": "https://localhost:8080/",
          "height": 676
        },
        "outputId": "36849639-df15-4f63-a284-087945d923af"
      },
      "execution_count": 3,
      "outputs": [
        {
          "output_type": "execute_result",
          "data": {
            "text/plain": [
              "    House ID  Local Price  Bathrooms  Land Area  Living area  # Garages  \\\n",
              "0          1       4.9176        1.0     3.4720        0.998        1.0   \n",
              "1          2       5.0208        1.0     3.5310        1.500        2.0   \n",
              "2          3       4.5429        1.0     2.2750        1.175        1.0   \n",
              "3          4       4.5573        1.0     4.0500        1.232        1.0   \n",
              "4          5       5.0597        1.0     4.4550        1.121        1.0   \n",
              "5          6       3.8910        1.0     4.4550        0.988        1.0   \n",
              "6          7       5.8980        1.0     5.8500        1.240        1.0   \n",
              "7          8       5.6039        1.0     9.5200        1.501        0.0   \n",
              "8          9      16.4202        2.5     9.8000        3.420        2.0   \n",
              "9         10      14.4598        2.5    12.8000        3.000        2.0   \n",
              "10        11       5.8282        1.0     6.4350        1.225        2.0   \n",
              "11        12       5.3003        1.0     4.9883        1.552        1.0   \n",
              "12        13       6.2712        1.0     5.5200        0.975        1.0   \n",
              "13        14       5.9592        1.0     6.6660        1.121        2.0   \n",
              "14        15       5.0500        1.0     5.0000        1.020        0.0   \n",
              "15        16       5.6039        1.0     9.5200        1.501        0.0   \n",
              "16        17       8.2464        1.5     5.1500        1.664        2.0   \n",
              "17        18       6.6969        1.5     6.9020        1.488        1.5   \n",
              "18        19       7.7841        1.5     7.1020        1.376        1.0   \n",
              "19        20       9.0384        1.0     7.8000        1.500        1.5   \n",
              "\n",
              "    # Rooms  # Bedrooms  Age of home Construction type  \n",
              "0         7           4           42         Apartment  \n",
              "1         7           4           62             House  \n",
              "2         6           3           40             Condo  \n",
              "3         6           3           54         Apartment  \n",
              "4         6           3           42         Apartment  \n",
              "5         6           3           56             Condo  \n",
              "6         7           3           51             Condo  \n",
              "7         6           3           32             House  \n",
              "8        10           5           42             Condo  \n",
              "9         9           5           14         Apartment  \n",
              "10        6           3           32             House  \n",
              "11        6           3           30             House  \n",
              "12        5           2           30             House  \n",
              "13        6           3           32             Condo  \n",
              "14        5           2           46         Apartment  \n",
              "15        6           3           32             House  \n",
              "16        8           4           50         Apartment  \n",
              "17        7           3           22             House  \n",
              "18        6           3           17             Condo  \n",
              "19        7           3           23         Apartment  "
            ],
            "text/html": [
              "\n",
              "  <div id=\"df-d0c47fb6-b85a-42ae-8901-a5fb02878d57\">\n",
              "    <div class=\"colab-df-container\">\n",
              "      <div>\n",
              "<style scoped>\n",
              "    .dataframe tbody tr th:only-of-type {\n",
              "        vertical-align: middle;\n",
              "    }\n",
              "\n",
              "    .dataframe tbody tr th {\n",
              "        vertical-align: top;\n",
              "    }\n",
              "\n",
              "    .dataframe thead th {\n",
              "        text-align: right;\n",
              "    }\n",
              "</style>\n",
              "<table border=\"1\" class=\"dataframe\">\n",
              "  <thead>\n",
              "    <tr style=\"text-align: right;\">\n",
              "      <th></th>\n",
              "      <th>House ID</th>\n",
              "      <th>Local Price</th>\n",
              "      <th>Bathrooms</th>\n",
              "      <th>Land Area</th>\n",
              "      <th>Living area</th>\n",
              "      <th># Garages</th>\n",
              "      <th># Rooms</th>\n",
              "      <th># Bedrooms</th>\n",
              "      <th>Age of home</th>\n",
              "      <th>Construction type</th>\n",
              "    </tr>\n",
              "  </thead>\n",
              "  <tbody>\n",
              "    <tr>\n",
              "      <th>0</th>\n",
              "      <td>1</td>\n",
              "      <td>4.9176</td>\n",
              "      <td>1.0</td>\n",
              "      <td>3.4720</td>\n",
              "      <td>0.998</td>\n",
              "      <td>1.0</td>\n",
              "      <td>7</td>\n",
              "      <td>4</td>\n",
              "      <td>42</td>\n",
              "      <td>Apartment</td>\n",
              "    </tr>\n",
              "    <tr>\n",
              "      <th>1</th>\n",
              "      <td>2</td>\n",
              "      <td>5.0208</td>\n",
              "      <td>1.0</td>\n",
              "      <td>3.5310</td>\n",
              "      <td>1.500</td>\n",
              "      <td>2.0</td>\n",
              "      <td>7</td>\n",
              "      <td>4</td>\n",
              "      <td>62</td>\n",
              "      <td>House</td>\n",
              "    </tr>\n",
              "    <tr>\n",
              "      <th>2</th>\n",
              "      <td>3</td>\n",
              "      <td>4.5429</td>\n",
              "      <td>1.0</td>\n",
              "      <td>2.2750</td>\n",
              "      <td>1.175</td>\n",
              "      <td>1.0</td>\n",
              "      <td>6</td>\n",
              "      <td>3</td>\n",
              "      <td>40</td>\n",
              "      <td>Condo</td>\n",
              "    </tr>\n",
              "    <tr>\n",
              "      <th>3</th>\n",
              "      <td>4</td>\n",
              "      <td>4.5573</td>\n",
              "      <td>1.0</td>\n",
              "      <td>4.0500</td>\n",
              "      <td>1.232</td>\n",
              "      <td>1.0</td>\n",
              "      <td>6</td>\n",
              "      <td>3</td>\n",
              "      <td>54</td>\n",
              "      <td>Apartment</td>\n",
              "    </tr>\n",
              "    <tr>\n",
              "      <th>4</th>\n",
              "      <td>5</td>\n",
              "      <td>5.0597</td>\n",
              "      <td>1.0</td>\n",
              "      <td>4.4550</td>\n",
              "      <td>1.121</td>\n",
              "      <td>1.0</td>\n",
              "      <td>6</td>\n",
              "      <td>3</td>\n",
              "      <td>42</td>\n",
              "      <td>Apartment</td>\n",
              "    </tr>\n",
              "    <tr>\n",
              "      <th>5</th>\n",
              "      <td>6</td>\n",
              "      <td>3.8910</td>\n",
              "      <td>1.0</td>\n",
              "      <td>4.4550</td>\n",
              "      <td>0.988</td>\n",
              "      <td>1.0</td>\n",
              "      <td>6</td>\n",
              "      <td>3</td>\n",
              "      <td>56</td>\n",
              "      <td>Condo</td>\n",
              "    </tr>\n",
              "    <tr>\n",
              "      <th>6</th>\n",
              "      <td>7</td>\n",
              "      <td>5.8980</td>\n",
              "      <td>1.0</td>\n",
              "      <td>5.8500</td>\n",
              "      <td>1.240</td>\n",
              "      <td>1.0</td>\n",
              "      <td>7</td>\n",
              "      <td>3</td>\n",
              "      <td>51</td>\n",
              "      <td>Condo</td>\n",
              "    </tr>\n",
              "    <tr>\n",
              "      <th>7</th>\n",
              "      <td>8</td>\n",
              "      <td>5.6039</td>\n",
              "      <td>1.0</td>\n",
              "      <td>9.5200</td>\n",
              "      <td>1.501</td>\n",
              "      <td>0.0</td>\n",
              "      <td>6</td>\n",
              "      <td>3</td>\n",
              "      <td>32</td>\n",
              "      <td>House</td>\n",
              "    </tr>\n",
              "    <tr>\n",
              "      <th>8</th>\n",
              "      <td>9</td>\n",
              "      <td>16.4202</td>\n",
              "      <td>2.5</td>\n",
              "      <td>9.8000</td>\n",
              "      <td>3.420</td>\n",
              "      <td>2.0</td>\n",
              "      <td>10</td>\n",
              "      <td>5</td>\n",
              "      <td>42</td>\n",
              "      <td>Condo</td>\n",
              "    </tr>\n",
              "    <tr>\n",
              "      <th>9</th>\n",
              "      <td>10</td>\n",
              "      <td>14.4598</td>\n",
              "      <td>2.5</td>\n",
              "      <td>12.8000</td>\n",
              "      <td>3.000</td>\n",
              "      <td>2.0</td>\n",
              "      <td>9</td>\n",
              "      <td>5</td>\n",
              "      <td>14</td>\n",
              "      <td>Apartment</td>\n",
              "    </tr>\n",
              "    <tr>\n",
              "      <th>10</th>\n",
              "      <td>11</td>\n",
              "      <td>5.8282</td>\n",
              "      <td>1.0</td>\n",
              "      <td>6.4350</td>\n",
              "      <td>1.225</td>\n",
              "      <td>2.0</td>\n",
              "      <td>6</td>\n",
              "      <td>3</td>\n",
              "      <td>32</td>\n",
              "      <td>House</td>\n",
              "    </tr>\n",
              "    <tr>\n",
              "      <th>11</th>\n",
              "      <td>12</td>\n",
              "      <td>5.3003</td>\n",
              "      <td>1.0</td>\n",
              "      <td>4.9883</td>\n",
              "      <td>1.552</td>\n",
              "      <td>1.0</td>\n",
              "      <td>6</td>\n",
              "      <td>3</td>\n",
              "      <td>30</td>\n",
              "      <td>House</td>\n",
              "    </tr>\n",
              "    <tr>\n",
              "      <th>12</th>\n",
              "      <td>13</td>\n",
              "      <td>6.2712</td>\n",
              "      <td>1.0</td>\n",
              "      <td>5.5200</td>\n",
              "      <td>0.975</td>\n",
              "      <td>1.0</td>\n",
              "      <td>5</td>\n",
              "      <td>2</td>\n",
              "      <td>30</td>\n",
              "      <td>House</td>\n",
              "    </tr>\n",
              "    <tr>\n",
              "      <th>13</th>\n",
              "      <td>14</td>\n",
              "      <td>5.9592</td>\n",
              "      <td>1.0</td>\n",
              "      <td>6.6660</td>\n",
              "      <td>1.121</td>\n",
              "      <td>2.0</td>\n",
              "      <td>6</td>\n",
              "      <td>3</td>\n",
              "      <td>32</td>\n",
              "      <td>Condo</td>\n",
              "    </tr>\n",
              "    <tr>\n",
              "      <th>14</th>\n",
              "      <td>15</td>\n",
              "      <td>5.0500</td>\n",
              "      <td>1.0</td>\n",
              "      <td>5.0000</td>\n",
              "      <td>1.020</td>\n",
              "      <td>0.0</td>\n",
              "      <td>5</td>\n",
              "      <td>2</td>\n",
              "      <td>46</td>\n",
              "      <td>Apartment</td>\n",
              "    </tr>\n",
              "    <tr>\n",
              "      <th>15</th>\n",
              "      <td>16</td>\n",
              "      <td>5.6039</td>\n",
              "      <td>1.0</td>\n",
              "      <td>9.5200</td>\n",
              "      <td>1.501</td>\n",
              "      <td>0.0</td>\n",
              "      <td>6</td>\n",
              "      <td>3</td>\n",
              "      <td>32</td>\n",
              "      <td>House</td>\n",
              "    </tr>\n",
              "    <tr>\n",
              "      <th>16</th>\n",
              "      <td>17</td>\n",
              "      <td>8.2464</td>\n",
              "      <td>1.5</td>\n",
              "      <td>5.1500</td>\n",
              "      <td>1.664</td>\n",
              "      <td>2.0</td>\n",
              "      <td>8</td>\n",
              "      <td>4</td>\n",
              "      <td>50</td>\n",
              "      <td>Apartment</td>\n",
              "    </tr>\n",
              "    <tr>\n",
              "      <th>17</th>\n",
              "      <td>18</td>\n",
              "      <td>6.6969</td>\n",
              "      <td>1.5</td>\n",
              "      <td>6.9020</td>\n",
              "      <td>1.488</td>\n",
              "      <td>1.5</td>\n",
              "      <td>7</td>\n",
              "      <td>3</td>\n",
              "      <td>22</td>\n",
              "      <td>House</td>\n",
              "    </tr>\n",
              "    <tr>\n",
              "      <th>18</th>\n",
              "      <td>19</td>\n",
              "      <td>7.7841</td>\n",
              "      <td>1.5</td>\n",
              "      <td>7.1020</td>\n",
              "      <td>1.376</td>\n",
              "      <td>1.0</td>\n",
              "      <td>6</td>\n",
              "      <td>3</td>\n",
              "      <td>17</td>\n",
              "      <td>Condo</td>\n",
              "    </tr>\n",
              "    <tr>\n",
              "      <th>19</th>\n",
              "      <td>20</td>\n",
              "      <td>9.0384</td>\n",
              "      <td>1.0</td>\n",
              "      <td>7.8000</td>\n",
              "      <td>1.500</td>\n",
              "      <td>1.5</td>\n",
              "      <td>7</td>\n",
              "      <td>3</td>\n",
              "      <td>23</td>\n",
              "      <td>Apartment</td>\n",
              "    </tr>\n",
              "  </tbody>\n",
              "</table>\n",
              "</div>\n",
              "      <button class=\"colab-df-convert\" onclick=\"convertToInteractive('df-d0c47fb6-b85a-42ae-8901-a5fb02878d57')\"\n",
              "              title=\"Convert this dataframe to an interactive table.\"\n",
              "              style=\"display:none;\">\n",
              "        \n",
              "  <svg xmlns=\"http://www.w3.org/2000/svg\" height=\"24px\"viewBox=\"0 0 24 24\"\n",
              "       width=\"24px\">\n",
              "    <path d=\"M0 0h24v24H0V0z\" fill=\"none\"/>\n",
              "    <path d=\"M18.56 5.44l.94 2.06.94-2.06 2.06-.94-2.06-.94-.94-2.06-.94 2.06-2.06.94zm-11 1L8.5 8.5l.94-2.06 2.06-.94-2.06-.94L8.5 2.5l-.94 2.06-2.06.94zm10 10l.94 2.06.94-2.06 2.06-.94-2.06-.94-.94-2.06-.94 2.06-2.06.94z\"/><path d=\"M17.41 7.96l-1.37-1.37c-.4-.4-.92-.59-1.43-.59-.52 0-1.04.2-1.43.59L10.3 9.45l-7.72 7.72c-.78.78-.78 2.05 0 2.83L4 21.41c.39.39.9.59 1.41.59.51 0 1.02-.2 1.41-.59l7.78-7.78 2.81-2.81c.8-.78.8-2.07 0-2.86zM5.41 20L4 18.59l7.72-7.72 1.47 1.35L5.41 20z\"/>\n",
              "  </svg>\n",
              "      </button>\n",
              "      \n",
              "  <style>\n",
              "    .colab-df-container {\n",
              "      display:flex;\n",
              "      flex-wrap:wrap;\n",
              "      gap: 12px;\n",
              "    }\n",
              "\n",
              "    .colab-df-convert {\n",
              "      background-color: #E8F0FE;\n",
              "      border: none;\n",
              "      border-radius: 50%;\n",
              "      cursor: pointer;\n",
              "      display: none;\n",
              "      fill: #1967D2;\n",
              "      height: 32px;\n",
              "      padding: 0 0 0 0;\n",
              "      width: 32px;\n",
              "    }\n",
              "\n",
              "    .colab-df-convert:hover {\n",
              "      background-color: #E2EBFA;\n",
              "      box-shadow: 0px 1px 2px rgba(60, 64, 67, 0.3), 0px 1px 3px 1px rgba(60, 64, 67, 0.15);\n",
              "      fill: #174EA6;\n",
              "    }\n",
              "\n",
              "    [theme=dark] .colab-df-convert {\n",
              "      background-color: #3B4455;\n",
              "      fill: #D2E3FC;\n",
              "    }\n",
              "\n",
              "    [theme=dark] .colab-df-convert:hover {\n",
              "      background-color: #434B5C;\n",
              "      box-shadow: 0px 1px 3px 1px rgba(0, 0, 0, 0.15);\n",
              "      filter: drop-shadow(0px 1px 2px rgba(0, 0, 0, 0.3));\n",
              "      fill: #FFFFFF;\n",
              "    }\n",
              "  </style>\n",
              "\n",
              "      <script>\n",
              "        const buttonEl =\n",
              "          document.querySelector('#df-d0c47fb6-b85a-42ae-8901-a5fb02878d57 button.colab-df-convert');\n",
              "        buttonEl.style.display =\n",
              "          google.colab.kernel.accessAllowed ? 'block' : 'none';\n",
              "\n",
              "        async function convertToInteractive(key) {\n",
              "          const element = document.querySelector('#df-d0c47fb6-b85a-42ae-8901-a5fb02878d57');\n",
              "          const dataTable =\n",
              "            await google.colab.kernel.invokeFunction('convertToInteractive',\n",
              "                                                     [key], {});\n",
              "          if (!dataTable) return;\n",
              "\n",
              "          const docLinkHtml = 'Like what you see? Visit the ' +\n",
              "            '<a target=\"_blank\" href=https://colab.research.google.com/notebooks/data_table.ipynb>data table notebook</a>'\n",
              "            + ' to learn more about interactive tables.';\n",
              "          element.innerHTML = '';\n",
              "          dataTable['output_type'] = 'display_data';\n",
              "          await google.colab.output.renderOutput(dataTable, element);\n",
              "          const docLink = document.createElement('div');\n",
              "          docLink.innerHTML = docLinkHtml;\n",
              "          element.appendChild(docLink);\n",
              "        }\n",
              "      </script>\n",
              "    </div>\n",
              "  </div>\n",
              "  "
            ]
          },
          "metadata": {},
          "execution_count": 3
        }
      ]
    },
    {
      "cell_type": "code",
      "source": [
        "houseData = df[df['Construction type'] == 'House']\n",
        "houseData"
      ],
      "metadata": {
        "colab": {
          "base_uri": "https://localhost:8080/",
          "height": 269
        },
        "id": "t_rO7hacL0GG",
        "outputId": "d684ec78-8862-48b9-b4c2-7e7ccb7bf5af"
      },
      "execution_count": 4,
      "outputs": [
        {
          "output_type": "execute_result",
          "data": {
            "text/plain": [
              "    House ID  Local Price  Bathrooms  Land Area  Living area  # Garages  \\\n",
              "1          2       5.0208        1.0     3.5310        1.500        2.0   \n",
              "7          8       5.6039        1.0     9.5200        1.501        0.0   \n",
              "10        11       5.8282        1.0     6.4350        1.225        2.0   \n",
              "11        12       5.3003        1.0     4.9883        1.552        1.0   \n",
              "12        13       6.2712        1.0     5.5200        0.975        1.0   \n",
              "15        16       5.6039        1.0     9.5200        1.501        0.0   \n",
              "17        18       6.6969        1.5     6.9020        1.488        1.5   \n",
              "\n",
              "    # Rooms  # Bedrooms  Age of home Construction type  \n",
              "1         7           4           62             House  \n",
              "7         6           3           32             House  \n",
              "10        6           3           32             House  \n",
              "11        6           3           30             House  \n",
              "12        5           2           30             House  \n",
              "15        6           3           32             House  \n",
              "17        7           3           22             House  "
            ],
            "text/html": [
              "\n",
              "  <div id=\"df-68ffcf8a-7148-4d8f-9387-8943e12c3086\">\n",
              "    <div class=\"colab-df-container\">\n",
              "      <div>\n",
              "<style scoped>\n",
              "    .dataframe tbody tr th:only-of-type {\n",
              "        vertical-align: middle;\n",
              "    }\n",
              "\n",
              "    .dataframe tbody tr th {\n",
              "        vertical-align: top;\n",
              "    }\n",
              "\n",
              "    .dataframe thead th {\n",
              "        text-align: right;\n",
              "    }\n",
              "</style>\n",
              "<table border=\"1\" class=\"dataframe\">\n",
              "  <thead>\n",
              "    <tr style=\"text-align: right;\">\n",
              "      <th></th>\n",
              "      <th>House ID</th>\n",
              "      <th>Local Price</th>\n",
              "      <th>Bathrooms</th>\n",
              "      <th>Land Area</th>\n",
              "      <th>Living area</th>\n",
              "      <th># Garages</th>\n",
              "      <th># Rooms</th>\n",
              "      <th># Bedrooms</th>\n",
              "      <th>Age of home</th>\n",
              "      <th>Construction type</th>\n",
              "    </tr>\n",
              "  </thead>\n",
              "  <tbody>\n",
              "    <tr>\n",
              "      <th>1</th>\n",
              "      <td>2</td>\n",
              "      <td>5.0208</td>\n",
              "      <td>1.0</td>\n",
              "      <td>3.5310</td>\n",
              "      <td>1.500</td>\n",
              "      <td>2.0</td>\n",
              "      <td>7</td>\n",
              "      <td>4</td>\n",
              "      <td>62</td>\n",
              "      <td>House</td>\n",
              "    </tr>\n",
              "    <tr>\n",
              "      <th>7</th>\n",
              "      <td>8</td>\n",
              "      <td>5.6039</td>\n",
              "      <td>1.0</td>\n",
              "      <td>9.5200</td>\n",
              "      <td>1.501</td>\n",
              "      <td>0.0</td>\n",
              "      <td>6</td>\n",
              "      <td>3</td>\n",
              "      <td>32</td>\n",
              "      <td>House</td>\n",
              "    </tr>\n",
              "    <tr>\n",
              "      <th>10</th>\n",
              "      <td>11</td>\n",
              "      <td>5.8282</td>\n",
              "      <td>1.0</td>\n",
              "      <td>6.4350</td>\n",
              "      <td>1.225</td>\n",
              "      <td>2.0</td>\n",
              "      <td>6</td>\n",
              "      <td>3</td>\n",
              "      <td>32</td>\n",
              "      <td>House</td>\n",
              "    </tr>\n",
              "    <tr>\n",
              "      <th>11</th>\n",
              "      <td>12</td>\n",
              "      <td>5.3003</td>\n",
              "      <td>1.0</td>\n",
              "      <td>4.9883</td>\n",
              "      <td>1.552</td>\n",
              "      <td>1.0</td>\n",
              "      <td>6</td>\n",
              "      <td>3</td>\n",
              "      <td>30</td>\n",
              "      <td>House</td>\n",
              "    </tr>\n",
              "    <tr>\n",
              "      <th>12</th>\n",
              "      <td>13</td>\n",
              "      <td>6.2712</td>\n",
              "      <td>1.0</td>\n",
              "      <td>5.5200</td>\n",
              "      <td>0.975</td>\n",
              "      <td>1.0</td>\n",
              "      <td>5</td>\n",
              "      <td>2</td>\n",
              "      <td>30</td>\n",
              "      <td>House</td>\n",
              "    </tr>\n",
              "    <tr>\n",
              "      <th>15</th>\n",
              "      <td>16</td>\n",
              "      <td>5.6039</td>\n",
              "      <td>1.0</td>\n",
              "      <td>9.5200</td>\n",
              "      <td>1.501</td>\n",
              "      <td>0.0</td>\n",
              "      <td>6</td>\n",
              "      <td>3</td>\n",
              "      <td>32</td>\n",
              "      <td>House</td>\n",
              "    </tr>\n",
              "    <tr>\n",
              "      <th>17</th>\n",
              "      <td>18</td>\n",
              "      <td>6.6969</td>\n",
              "      <td>1.5</td>\n",
              "      <td>6.9020</td>\n",
              "      <td>1.488</td>\n",
              "      <td>1.5</td>\n",
              "      <td>7</td>\n",
              "      <td>3</td>\n",
              "      <td>22</td>\n",
              "      <td>House</td>\n",
              "    </tr>\n",
              "  </tbody>\n",
              "</table>\n",
              "</div>\n",
              "      <button class=\"colab-df-convert\" onclick=\"convertToInteractive('df-68ffcf8a-7148-4d8f-9387-8943e12c3086')\"\n",
              "              title=\"Convert this dataframe to an interactive table.\"\n",
              "              style=\"display:none;\">\n",
              "        \n",
              "  <svg xmlns=\"http://www.w3.org/2000/svg\" height=\"24px\"viewBox=\"0 0 24 24\"\n",
              "       width=\"24px\">\n",
              "    <path d=\"M0 0h24v24H0V0z\" fill=\"none\"/>\n",
              "    <path d=\"M18.56 5.44l.94 2.06.94-2.06 2.06-.94-2.06-.94-.94-2.06-.94 2.06-2.06.94zm-11 1L8.5 8.5l.94-2.06 2.06-.94-2.06-.94L8.5 2.5l-.94 2.06-2.06.94zm10 10l.94 2.06.94-2.06 2.06-.94-2.06-.94-.94-2.06-.94 2.06-2.06.94z\"/><path d=\"M17.41 7.96l-1.37-1.37c-.4-.4-.92-.59-1.43-.59-.52 0-1.04.2-1.43.59L10.3 9.45l-7.72 7.72c-.78.78-.78 2.05 0 2.83L4 21.41c.39.39.9.59 1.41.59.51 0 1.02-.2 1.41-.59l7.78-7.78 2.81-2.81c.8-.78.8-2.07 0-2.86zM5.41 20L4 18.59l7.72-7.72 1.47 1.35L5.41 20z\"/>\n",
              "  </svg>\n",
              "      </button>\n",
              "      \n",
              "  <style>\n",
              "    .colab-df-container {\n",
              "      display:flex;\n",
              "      flex-wrap:wrap;\n",
              "      gap: 12px;\n",
              "    }\n",
              "\n",
              "    .colab-df-convert {\n",
              "      background-color: #E8F0FE;\n",
              "      border: none;\n",
              "      border-radius: 50%;\n",
              "      cursor: pointer;\n",
              "      display: none;\n",
              "      fill: #1967D2;\n",
              "      height: 32px;\n",
              "      padding: 0 0 0 0;\n",
              "      width: 32px;\n",
              "    }\n",
              "\n",
              "    .colab-df-convert:hover {\n",
              "      background-color: #E2EBFA;\n",
              "      box-shadow: 0px 1px 2px rgba(60, 64, 67, 0.3), 0px 1px 3px 1px rgba(60, 64, 67, 0.15);\n",
              "      fill: #174EA6;\n",
              "    }\n",
              "\n",
              "    [theme=dark] .colab-df-convert {\n",
              "      background-color: #3B4455;\n",
              "      fill: #D2E3FC;\n",
              "    }\n",
              "\n",
              "    [theme=dark] .colab-df-convert:hover {\n",
              "      background-color: #434B5C;\n",
              "      box-shadow: 0px 1px 3px 1px rgba(0, 0, 0, 0.15);\n",
              "      filter: drop-shadow(0px 1px 2px rgba(0, 0, 0, 0.3));\n",
              "      fill: #FFFFFF;\n",
              "    }\n",
              "  </style>\n",
              "\n",
              "      <script>\n",
              "        const buttonEl =\n",
              "          document.querySelector('#df-68ffcf8a-7148-4d8f-9387-8943e12c3086 button.colab-df-convert');\n",
              "        buttonEl.style.display =\n",
              "          google.colab.kernel.accessAllowed ? 'block' : 'none';\n",
              "\n",
              "        async function convertToInteractive(key) {\n",
              "          const element = document.querySelector('#df-68ffcf8a-7148-4d8f-9387-8943e12c3086');\n",
              "          const dataTable =\n",
              "            await google.colab.kernel.invokeFunction('convertToInteractive',\n",
              "                                                     [key], {});\n",
              "          if (!dataTable) return;\n",
              "\n",
              "          const docLinkHtml = 'Like what you see? Visit the ' +\n",
              "            '<a target=\"_blank\" href=https://colab.research.google.com/notebooks/data_table.ipynb>data table notebook</a>'\n",
              "            + ' to learn more about interactive tables.';\n",
              "          element.innerHTML = '';\n",
              "          dataTable['output_type'] = 'display_data';\n",
              "          await google.colab.output.renderOutput(dataTable, element);\n",
              "          const docLink = document.createElement('div');\n",
              "          docLink.innerHTML = docLinkHtml;\n",
              "          element.appendChild(docLink);\n",
              "        }\n",
              "      </script>\n",
              "    </div>\n",
              "  </div>\n",
              "  "
            ]
          },
          "metadata": {},
          "execution_count": 4
        }
      ]
    },
    {
      "cell_type": "code",
      "source": [
        "condoData = df[df['Construction type'] == 'Condo']\n",
        "condoData"
      ],
      "metadata": {
        "colab": {
          "base_uri": "https://localhost:8080/",
          "height": 237
        },
        "id": "M3jaP8uGNX08",
        "outputId": "a86478f3-ca48-466c-a7e2-ca864b757a80"
      },
      "execution_count": 5,
      "outputs": [
        {
          "output_type": "execute_result",
          "data": {
            "text/plain": [
              "    House ID  Local Price  Bathrooms  Land Area  Living area  # Garages  \\\n",
              "2          3       4.5429        1.0      2.275        1.175        1.0   \n",
              "5          6       3.8910        1.0      4.455        0.988        1.0   \n",
              "6          7       5.8980        1.0      5.850        1.240        1.0   \n",
              "8          9      16.4202        2.5      9.800        3.420        2.0   \n",
              "13        14       5.9592        1.0      6.666        1.121        2.0   \n",
              "18        19       7.7841        1.5      7.102        1.376        1.0   \n",
              "\n",
              "    # Rooms  # Bedrooms  Age of home Construction type  \n",
              "2         6           3           40             Condo  \n",
              "5         6           3           56             Condo  \n",
              "6         7           3           51             Condo  \n",
              "8        10           5           42             Condo  \n",
              "13        6           3           32             Condo  \n",
              "18        6           3           17             Condo  "
            ],
            "text/html": [
              "\n",
              "  <div id=\"df-c9f0456b-80c1-4ae9-813a-ac2b38f40436\">\n",
              "    <div class=\"colab-df-container\">\n",
              "      <div>\n",
              "<style scoped>\n",
              "    .dataframe tbody tr th:only-of-type {\n",
              "        vertical-align: middle;\n",
              "    }\n",
              "\n",
              "    .dataframe tbody tr th {\n",
              "        vertical-align: top;\n",
              "    }\n",
              "\n",
              "    .dataframe thead th {\n",
              "        text-align: right;\n",
              "    }\n",
              "</style>\n",
              "<table border=\"1\" class=\"dataframe\">\n",
              "  <thead>\n",
              "    <tr style=\"text-align: right;\">\n",
              "      <th></th>\n",
              "      <th>House ID</th>\n",
              "      <th>Local Price</th>\n",
              "      <th>Bathrooms</th>\n",
              "      <th>Land Area</th>\n",
              "      <th>Living area</th>\n",
              "      <th># Garages</th>\n",
              "      <th># Rooms</th>\n",
              "      <th># Bedrooms</th>\n",
              "      <th>Age of home</th>\n",
              "      <th>Construction type</th>\n",
              "    </tr>\n",
              "  </thead>\n",
              "  <tbody>\n",
              "    <tr>\n",
              "      <th>2</th>\n",
              "      <td>3</td>\n",
              "      <td>4.5429</td>\n",
              "      <td>1.0</td>\n",
              "      <td>2.275</td>\n",
              "      <td>1.175</td>\n",
              "      <td>1.0</td>\n",
              "      <td>6</td>\n",
              "      <td>3</td>\n",
              "      <td>40</td>\n",
              "      <td>Condo</td>\n",
              "    </tr>\n",
              "    <tr>\n",
              "      <th>5</th>\n",
              "      <td>6</td>\n",
              "      <td>3.8910</td>\n",
              "      <td>1.0</td>\n",
              "      <td>4.455</td>\n",
              "      <td>0.988</td>\n",
              "      <td>1.0</td>\n",
              "      <td>6</td>\n",
              "      <td>3</td>\n",
              "      <td>56</td>\n",
              "      <td>Condo</td>\n",
              "    </tr>\n",
              "    <tr>\n",
              "      <th>6</th>\n",
              "      <td>7</td>\n",
              "      <td>5.8980</td>\n",
              "      <td>1.0</td>\n",
              "      <td>5.850</td>\n",
              "      <td>1.240</td>\n",
              "      <td>1.0</td>\n",
              "      <td>7</td>\n",
              "      <td>3</td>\n",
              "      <td>51</td>\n",
              "      <td>Condo</td>\n",
              "    </tr>\n",
              "    <tr>\n",
              "      <th>8</th>\n",
              "      <td>9</td>\n",
              "      <td>16.4202</td>\n",
              "      <td>2.5</td>\n",
              "      <td>9.800</td>\n",
              "      <td>3.420</td>\n",
              "      <td>2.0</td>\n",
              "      <td>10</td>\n",
              "      <td>5</td>\n",
              "      <td>42</td>\n",
              "      <td>Condo</td>\n",
              "    </tr>\n",
              "    <tr>\n",
              "      <th>13</th>\n",
              "      <td>14</td>\n",
              "      <td>5.9592</td>\n",
              "      <td>1.0</td>\n",
              "      <td>6.666</td>\n",
              "      <td>1.121</td>\n",
              "      <td>2.0</td>\n",
              "      <td>6</td>\n",
              "      <td>3</td>\n",
              "      <td>32</td>\n",
              "      <td>Condo</td>\n",
              "    </tr>\n",
              "    <tr>\n",
              "      <th>18</th>\n",
              "      <td>19</td>\n",
              "      <td>7.7841</td>\n",
              "      <td>1.5</td>\n",
              "      <td>7.102</td>\n",
              "      <td>1.376</td>\n",
              "      <td>1.0</td>\n",
              "      <td>6</td>\n",
              "      <td>3</td>\n",
              "      <td>17</td>\n",
              "      <td>Condo</td>\n",
              "    </tr>\n",
              "  </tbody>\n",
              "</table>\n",
              "</div>\n",
              "      <button class=\"colab-df-convert\" onclick=\"convertToInteractive('df-c9f0456b-80c1-4ae9-813a-ac2b38f40436')\"\n",
              "              title=\"Convert this dataframe to an interactive table.\"\n",
              "              style=\"display:none;\">\n",
              "        \n",
              "  <svg xmlns=\"http://www.w3.org/2000/svg\" height=\"24px\"viewBox=\"0 0 24 24\"\n",
              "       width=\"24px\">\n",
              "    <path d=\"M0 0h24v24H0V0z\" fill=\"none\"/>\n",
              "    <path d=\"M18.56 5.44l.94 2.06.94-2.06 2.06-.94-2.06-.94-.94-2.06-.94 2.06-2.06.94zm-11 1L8.5 8.5l.94-2.06 2.06-.94-2.06-.94L8.5 2.5l-.94 2.06-2.06.94zm10 10l.94 2.06.94-2.06 2.06-.94-2.06-.94-.94-2.06-.94 2.06-2.06.94z\"/><path d=\"M17.41 7.96l-1.37-1.37c-.4-.4-.92-.59-1.43-.59-.52 0-1.04.2-1.43.59L10.3 9.45l-7.72 7.72c-.78.78-.78 2.05 0 2.83L4 21.41c.39.39.9.59 1.41.59.51 0 1.02-.2 1.41-.59l7.78-7.78 2.81-2.81c.8-.78.8-2.07 0-2.86zM5.41 20L4 18.59l7.72-7.72 1.47 1.35L5.41 20z\"/>\n",
              "  </svg>\n",
              "      </button>\n",
              "      \n",
              "  <style>\n",
              "    .colab-df-container {\n",
              "      display:flex;\n",
              "      flex-wrap:wrap;\n",
              "      gap: 12px;\n",
              "    }\n",
              "\n",
              "    .colab-df-convert {\n",
              "      background-color: #E8F0FE;\n",
              "      border: none;\n",
              "      border-radius: 50%;\n",
              "      cursor: pointer;\n",
              "      display: none;\n",
              "      fill: #1967D2;\n",
              "      height: 32px;\n",
              "      padding: 0 0 0 0;\n",
              "      width: 32px;\n",
              "    }\n",
              "\n",
              "    .colab-df-convert:hover {\n",
              "      background-color: #E2EBFA;\n",
              "      box-shadow: 0px 1px 2px rgba(60, 64, 67, 0.3), 0px 1px 3px 1px rgba(60, 64, 67, 0.15);\n",
              "      fill: #174EA6;\n",
              "    }\n",
              "\n",
              "    [theme=dark] .colab-df-convert {\n",
              "      background-color: #3B4455;\n",
              "      fill: #D2E3FC;\n",
              "    }\n",
              "\n",
              "    [theme=dark] .colab-df-convert:hover {\n",
              "      background-color: #434B5C;\n",
              "      box-shadow: 0px 1px 3px 1px rgba(0, 0, 0, 0.15);\n",
              "      filter: drop-shadow(0px 1px 2px rgba(0, 0, 0, 0.3));\n",
              "      fill: #FFFFFF;\n",
              "    }\n",
              "  </style>\n",
              "\n",
              "      <script>\n",
              "        const buttonEl =\n",
              "          document.querySelector('#df-c9f0456b-80c1-4ae9-813a-ac2b38f40436 button.colab-df-convert');\n",
              "        buttonEl.style.display =\n",
              "          google.colab.kernel.accessAllowed ? 'block' : 'none';\n",
              "\n",
              "        async function convertToInteractive(key) {\n",
              "          const element = document.querySelector('#df-c9f0456b-80c1-4ae9-813a-ac2b38f40436');\n",
              "          const dataTable =\n",
              "            await google.colab.kernel.invokeFunction('convertToInteractive',\n",
              "                                                     [key], {});\n",
              "          if (!dataTable) return;\n",
              "\n",
              "          const docLinkHtml = 'Like what you see? Visit the ' +\n",
              "            '<a target=\"_blank\" href=https://colab.research.google.com/notebooks/data_table.ipynb>data table notebook</a>'\n",
              "            + ' to learn more about interactive tables.';\n",
              "          element.innerHTML = '';\n",
              "          dataTable['output_type'] = 'display_data';\n",
              "          await google.colab.output.renderOutput(dataTable, element);\n",
              "          const docLink = document.createElement('div');\n",
              "          docLink.innerHTML = docLinkHtml;\n",
              "          element.appendChild(docLink);\n",
              "        }\n",
              "      </script>\n",
              "    </div>\n",
              "  </div>\n",
              "  "
            ]
          },
          "metadata": {},
          "execution_count": 5
        }
      ]
    },
    {
      "cell_type": "code",
      "source": [
        "apartmentData = df[df['Construction type'] == 'Apartment']\n",
        "apartmentData"
      ],
      "metadata": {
        "colab": {
          "base_uri": "https://localhost:8080/",
          "height": 269
        },
        "id": "vs_LZZH1Nm1b",
        "outputId": "3ddd0438-986f-4d29-e7cf-ceda5dacd6af"
      },
      "execution_count": 6,
      "outputs": [
        {
          "output_type": "execute_result",
          "data": {
            "text/plain": [
              "    House ID  Local Price  Bathrooms  Land Area  Living area  # Garages  \\\n",
              "0          1       4.9176        1.0      3.472        0.998        1.0   \n",
              "3          4       4.5573        1.0      4.050        1.232        1.0   \n",
              "4          5       5.0597        1.0      4.455        1.121        1.0   \n",
              "9         10      14.4598        2.5     12.800        3.000        2.0   \n",
              "14        15       5.0500        1.0      5.000        1.020        0.0   \n",
              "16        17       8.2464        1.5      5.150        1.664        2.0   \n",
              "19        20       9.0384        1.0      7.800        1.500        1.5   \n",
              "\n",
              "    # Rooms  # Bedrooms  Age of home Construction type  \n",
              "0         7           4           42         Apartment  \n",
              "3         6           3           54         Apartment  \n",
              "4         6           3           42         Apartment  \n",
              "9         9           5           14         Apartment  \n",
              "14        5           2           46         Apartment  \n",
              "16        8           4           50         Apartment  \n",
              "19        7           3           23         Apartment  "
            ],
            "text/html": [
              "\n",
              "  <div id=\"df-d5fbc800-e3d5-49d2-9fc6-c81cbe832d12\">\n",
              "    <div class=\"colab-df-container\">\n",
              "      <div>\n",
              "<style scoped>\n",
              "    .dataframe tbody tr th:only-of-type {\n",
              "        vertical-align: middle;\n",
              "    }\n",
              "\n",
              "    .dataframe tbody tr th {\n",
              "        vertical-align: top;\n",
              "    }\n",
              "\n",
              "    .dataframe thead th {\n",
              "        text-align: right;\n",
              "    }\n",
              "</style>\n",
              "<table border=\"1\" class=\"dataframe\">\n",
              "  <thead>\n",
              "    <tr style=\"text-align: right;\">\n",
              "      <th></th>\n",
              "      <th>House ID</th>\n",
              "      <th>Local Price</th>\n",
              "      <th>Bathrooms</th>\n",
              "      <th>Land Area</th>\n",
              "      <th>Living area</th>\n",
              "      <th># Garages</th>\n",
              "      <th># Rooms</th>\n",
              "      <th># Bedrooms</th>\n",
              "      <th>Age of home</th>\n",
              "      <th>Construction type</th>\n",
              "    </tr>\n",
              "  </thead>\n",
              "  <tbody>\n",
              "    <tr>\n",
              "      <th>0</th>\n",
              "      <td>1</td>\n",
              "      <td>4.9176</td>\n",
              "      <td>1.0</td>\n",
              "      <td>3.472</td>\n",
              "      <td>0.998</td>\n",
              "      <td>1.0</td>\n",
              "      <td>7</td>\n",
              "      <td>4</td>\n",
              "      <td>42</td>\n",
              "      <td>Apartment</td>\n",
              "    </tr>\n",
              "    <tr>\n",
              "      <th>3</th>\n",
              "      <td>4</td>\n",
              "      <td>4.5573</td>\n",
              "      <td>1.0</td>\n",
              "      <td>4.050</td>\n",
              "      <td>1.232</td>\n",
              "      <td>1.0</td>\n",
              "      <td>6</td>\n",
              "      <td>3</td>\n",
              "      <td>54</td>\n",
              "      <td>Apartment</td>\n",
              "    </tr>\n",
              "    <tr>\n",
              "      <th>4</th>\n",
              "      <td>5</td>\n",
              "      <td>5.0597</td>\n",
              "      <td>1.0</td>\n",
              "      <td>4.455</td>\n",
              "      <td>1.121</td>\n",
              "      <td>1.0</td>\n",
              "      <td>6</td>\n",
              "      <td>3</td>\n",
              "      <td>42</td>\n",
              "      <td>Apartment</td>\n",
              "    </tr>\n",
              "    <tr>\n",
              "      <th>9</th>\n",
              "      <td>10</td>\n",
              "      <td>14.4598</td>\n",
              "      <td>2.5</td>\n",
              "      <td>12.800</td>\n",
              "      <td>3.000</td>\n",
              "      <td>2.0</td>\n",
              "      <td>9</td>\n",
              "      <td>5</td>\n",
              "      <td>14</td>\n",
              "      <td>Apartment</td>\n",
              "    </tr>\n",
              "    <tr>\n",
              "      <th>14</th>\n",
              "      <td>15</td>\n",
              "      <td>5.0500</td>\n",
              "      <td>1.0</td>\n",
              "      <td>5.000</td>\n",
              "      <td>1.020</td>\n",
              "      <td>0.0</td>\n",
              "      <td>5</td>\n",
              "      <td>2</td>\n",
              "      <td>46</td>\n",
              "      <td>Apartment</td>\n",
              "    </tr>\n",
              "    <tr>\n",
              "      <th>16</th>\n",
              "      <td>17</td>\n",
              "      <td>8.2464</td>\n",
              "      <td>1.5</td>\n",
              "      <td>5.150</td>\n",
              "      <td>1.664</td>\n",
              "      <td>2.0</td>\n",
              "      <td>8</td>\n",
              "      <td>4</td>\n",
              "      <td>50</td>\n",
              "      <td>Apartment</td>\n",
              "    </tr>\n",
              "    <tr>\n",
              "      <th>19</th>\n",
              "      <td>20</td>\n",
              "      <td>9.0384</td>\n",
              "      <td>1.0</td>\n",
              "      <td>7.800</td>\n",
              "      <td>1.500</td>\n",
              "      <td>1.5</td>\n",
              "      <td>7</td>\n",
              "      <td>3</td>\n",
              "      <td>23</td>\n",
              "      <td>Apartment</td>\n",
              "    </tr>\n",
              "  </tbody>\n",
              "</table>\n",
              "</div>\n",
              "      <button class=\"colab-df-convert\" onclick=\"convertToInteractive('df-d5fbc800-e3d5-49d2-9fc6-c81cbe832d12')\"\n",
              "              title=\"Convert this dataframe to an interactive table.\"\n",
              "              style=\"display:none;\">\n",
              "        \n",
              "  <svg xmlns=\"http://www.w3.org/2000/svg\" height=\"24px\"viewBox=\"0 0 24 24\"\n",
              "       width=\"24px\">\n",
              "    <path d=\"M0 0h24v24H0V0z\" fill=\"none\"/>\n",
              "    <path d=\"M18.56 5.44l.94 2.06.94-2.06 2.06-.94-2.06-.94-.94-2.06-.94 2.06-2.06.94zm-11 1L8.5 8.5l.94-2.06 2.06-.94-2.06-.94L8.5 2.5l-.94 2.06-2.06.94zm10 10l.94 2.06.94-2.06 2.06-.94-2.06-.94-.94-2.06-.94 2.06-2.06.94z\"/><path d=\"M17.41 7.96l-1.37-1.37c-.4-.4-.92-.59-1.43-.59-.52 0-1.04.2-1.43.59L10.3 9.45l-7.72 7.72c-.78.78-.78 2.05 0 2.83L4 21.41c.39.39.9.59 1.41.59.51 0 1.02-.2 1.41-.59l7.78-7.78 2.81-2.81c.8-.78.8-2.07 0-2.86zM5.41 20L4 18.59l7.72-7.72 1.47 1.35L5.41 20z\"/>\n",
              "  </svg>\n",
              "      </button>\n",
              "      \n",
              "  <style>\n",
              "    .colab-df-container {\n",
              "      display:flex;\n",
              "      flex-wrap:wrap;\n",
              "      gap: 12px;\n",
              "    }\n",
              "\n",
              "    .colab-df-convert {\n",
              "      background-color: #E8F0FE;\n",
              "      border: none;\n",
              "      border-radius: 50%;\n",
              "      cursor: pointer;\n",
              "      display: none;\n",
              "      fill: #1967D2;\n",
              "      height: 32px;\n",
              "      padding: 0 0 0 0;\n",
              "      width: 32px;\n",
              "    }\n",
              "\n",
              "    .colab-df-convert:hover {\n",
              "      background-color: #E2EBFA;\n",
              "      box-shadow: 0px 1px 2px rgba(60, 64, 67, 0.3), 0px 1px 3px 1px rgba(60, 64, 67, 0.15);\n",
              "      fill: #174EA6;\n",
              "    }\n",
              "\n",
              "    [theme=dark] .colab-df-convert {\n",
              "      background-color: #3B4455;\n",
              "      fill: #D2E3FC;\n",
              "    }\n",
              "\n",
              "    [theme=dark] .colab-df-convert:hover {\n",
              "      background-color: #434B5C;\n",
              "      box-shadow: 0px 1px 3px 1px rgba(0, 0, 0, 0.15);\n",
              "      filter: drop-shadow(0px 1px 2px rgba(0, 0, 0, 0.3));\n",
              "      fill: #FFFFFF;\n",
              "    }\n",
              "  </style>\n",
              "\n",
              "      <script>\n",
              "        const buttonEl =\n",
              "          document.querySelector('#df-d5fbc800-e3d5-49d2-9fc6-c81cbe832d12 button.colab-df-convert');\n",
              "        buttonEl.style.display =\n",
              "          google.colab.kernel.accessAllowed ? 'block' : 'none';\n",
              "\n",
              "        async function convertToInteractive(key) {\n",
              "          const element = document.querySelector('#df-d5fbc800-e3d5-49d2-9fc6-c81cbe832d12');\n",
              "          const dataTable =\n",
              "            await google.colab.kernel.invokeFunction('convertToInteractive',\n",
              "                                                     [key], {});\n",
              "          if (!dataTable) return;\n",
              "\n",
              "          const docLinkHtml = 'Like what you see? Visit the ' +\n",
              "            '<a target=\"_blank\" href=https://colab.research.google.com/notebooks/data_table.ipynb>data table notebook</a>'\n",
              "            + ' to learn more about interactive tables.';\n",
              "          element.innerHTML = '';\n",
              "          dataTable['output_type'] = 'display_data';\n",
              "          await google.colab.output.renderOutput(dataTable, element);\n",
              "          const docLink = document.createElement('div');\n",
              "          docLink.innerHTML = docLinkHtml;\n",
              "          element.appendChild(docLink);\n",
              "        }\n",
              "      </script>\n",
              "    </div>\n",
              "  </div>\n",
              "  "
            ]
          },
          "metadata": {},
          "execution_count": 6
        }
      ]
    },
    {
      "cell_type": "code",
      "source": [
        "apt_probab = len(apartmentData)/20\n",
        "condo_probab = len(condoData)/20\n",
        "house_probab = len(houseData)/20\n",
        "\n",
        "print(\"apt_probab: \", apt_probab)\n",
        "print(\"condo_probab: \", condo_probab)\n",
        "print(\"house_probab: \",house_probab)"
      ],
      "metadata": {
        "colab": {
          "base_uri": "https://localhost:8080/"
        },
        "id": "KLpzRmNYYtIu",
        "outputId": "a83475b6-8679-4e5f-92bc-404b7e1ece9c"
      },
      "execution_count": 7,
      "outputs": [
        {
          "output_type": "stream",
          "name": "stdout",
          "text": [
            "apt_probab:  0.35\n",
            "condo_probab:  0.3\n",
            "house_probab:  0.35\n"
          ]
        }
      ]
    },
    {
      "cell_type": "code",
      "source": [
        "df_test = pd.read_excel('/content/drive/MyDrive/ML Practice/OSU_ML/Assignment4/Asssignment4_Data.xlsx', \"Test\")\n",
        "df_test"
      ],
      "metadata": {
        "colab": {
          "base_uri": "https://localhost:8080/",
          "height": 206
        },
        "id": "geuj7iVHNtDu",
        "outputId": "5e394ef7-b5e3-48b9-f579-a988424ff2bc"
      },
      "execution_count": 8,
      "outputs": [
        {
          "output_type": "execute_result",
          "data": {
            "text/plain": [
              "   House ID  Local Price  Bathrooms  Land Area  Living area  # Garages  \\\n",
              "0        24       6.0931        1.5     6.7265        1.652        1.0   \n",
              "1        25       8.3607        1.5     9.1500        1.777        2.0   \n",
              "2        26       8.1400        1.0     8.0000        1.504        2.0   \n",
              "3        27       9.1416        1.5     7.3262        1.831        1.5   \n",
              "4        28      12.0000        1.5     5.0000        1.200        2.0   \n",
              "\n",
              "   # Rooms  # Bedrooms  Age of home Construction type  \n",
              "0        6           3           44         Apartment  \n",
              "1        8           4           48             House  \n",
              "2        7           3            3             House  \n",
              "3        8           4           31         Apartment  \n",
              "4        6           3           30         Apartment  "
            ],
            "text/html": [
              "\n",
              "  <div id=\"df-ef8befb1-4561-4d15-b6a0-19b07c230f6e\">\n",
              "    <div class=\"colab-df-container\">\n",
              "      <div>\n",
              "<style scoped>\n",
              "    .dataframe tbody tr th:only-of-type {\n",
              "        vertical-align: middle;\n",
              "    }\n",
              "\n",
              "    .dataframe tbody tr th {\n",
              "        vertical-align: top;\n",
              "    }\n",
              "\n",
              "    .dataframe thead th {\n",
              "        text-align: right;\n",
              "    }\n",
              "</style>\n",
              "<table border=\"1\" class=\"dataframe\">\n",
              "  <thead>\n",
              "    <tr style=\"text-align: right;\">\n",
              "      <th></th>\n",
              "      <th>House ID</th>\n",
              "      <th>Local Price</th>\n",
              "      <th>Bathrooms</th>\n",
              "      <th>Land Area</th>\n",
              "      <th>Living area</th>\n",
              "      <th># Garages</th>\n",
              "      <th># Rooms</th>\n",
              "      <th># Bedrooms</th>\n",
              "      <th>Age of home</th>\n",
              "      <th>Construction type</th>\n",
              "    </tr>\n",
              "  </thead>\n",
              "  <tbody>\n",
              "    <tr>\n",
              "      <th>0</th>\n",
              "      <td>24</td>\n",
              "      <td>6.0931</td>\n",
              "      <td>1.5</td>\n",
              "      <td>6.7265</td>\n",
              "      <td>1.652</td>\n",
              "      <td>1.0</td>\n",
              "      <td>6</td>\n",
              "      <td>3</td>\n",
              "      <td>44</td>\n",
              "      <td>Apartment</td>\n",
              "    </tr>\n",
              "    <tr>\n",
              "      <th>1</th>\n",
              "      <td>25</td>\n",
              "      <td>8.3607</td>\n",
              "      <td>1.5</td>\n",
              "      <td>9.1500</td>\n",
              "      <td>1.777</td>\n",
              "      <td>2.0</td>\n",
              "      <td>8</td>\n",
              "      <td>4</td>\n",
              "      <td>48</td>\n",
              "      <td>House</td>\n",
              "    </tr>\n",
              "    <tr>\n",
              "      <th>2</th>\n",
              "      <td>26</td>\n",
              "      <td>8.1400</td>\n",
              "      <td>1.0</td>\n",
              "      <td>8.0000</td>\n",
              "      <td>1.504</td>\n",
              "      <td>2.0</td>\n",
              "      <td>7</td>\n",
              "      <td>3</td>\n",
              "      <td>3</td>\n",
              "      <td>House</td>\n",
              "    </tr>\n",
              "    <tr>\n",
              "      <th>3</th>\n",
              "      <td>27</td>\n",
              "      <td>9.1416</td>\n",
              "      <td>1.5</td>\n",
              "      <td>7.3262</td>\n",
              "      <td>1.831</td>\n",
              "      <td>1.5</td>\n",
              "      <td>8</td>\n",
              "      <td>4</td>\n",
              "      <td>31</td>\n",
              "      <td>Apartment</td>\n",
              "    </tr>\n",
              "    <tr>\n",
              "      <th>4</th>\n",
              "      <td>28</td>\n",
              "      <td>12.0000</td>\n",
              "      <td>1.5</td>\n",
              "      <td>5.0000</td>\n",
              "      <td>1.200</td>\n",
              "      <td>2.0</td>\n",
              "      <td>6</td>\n",
              "      <td>3</td>\n",
              "      <td>30</td>\n",
              "      <td>Apartment</td>\n",
              "    </tr>\n",
              "  </tbody>\n",
              "</table>\n",
              "</div>\n",
              "      <button class=\"colab-df-convert\" onclick=\"convertToInteractive('df-ef8befb1-4561-4d15-b6a0-19b07c230f6e')\"\n",
              "              title=\"Convert this dataframe to an interactive table.\"\n",
              "              style=\"display:none;\">\n",
              "        \n",
              "  <svg xmlns=\"http://www.w3.org/2000/svg\" height=\"24px\"viewBox=\"0 0 24 24\"\n",
              "       width=\"24px\">\n",
              "    <path d=\"M0 0h24v24H0V0z\" fill=\"none\"/>\n",
              "    <path d=\"M18.56 5.44l.94 2.06.94-2.06 2.06-.94-2.06-.94-.94-2.06-.94 2.06-2.06.94zm-11 1L8.5 8.5l.94-2.06 2.06-.94-2.06-.94L8.5 2.5l-.94 2.06-2.06.94zm10 10l.94 2.06.94-2.06 2.06-.94-2.06-.94-.94-2.06-.94 2.06-2.06.94z\"/><path d=\"M17.41 7.96l-1.37-1.37c-.4-.4-.92-.59-1.43-.59-.52 0-1.04.2-1.43.59L10.3 9.45l-7.72 7.72c-.78.78-.78 2.05 0 2.83L4 21.41c.39.39.9.59 1.41.59.51 0 1.02-.2 1.41-.59l7.78-7.78 2.81-2.81c.8-.78.8-2.07 0-2.86zM5.41 20L4 18.59l7.72-7.72 1.47 1.35L5.41 20z\"/>\n",
              "  </svg>\n",
              "      </button>\n",
              "      \n",
              "  <style>\n",
              "    .colab-df-container {\n",
              "      display:flex;\n",
              "      flex-wrap:wrap;\n",
              "      gap: 12px;\n",
              "    }\n",
              "\n",
              "    .colab-df-convert {\n",
              "      background-color: #E8F0FE;\n",
              "      border: none;\n",
              "      border-radius: 50%;\n",
              "      cursor: pointer;\n",
              "      display: none;\n",
              "      fill: #1967D2;\n",
              "      height: 32px;\n",
              "      padding: 0 0 0 0;\n",
              "      width: 32px;\n",
              "    }\n",
              "\n",
              "    .colab-df-convert:hover {\n",
              "      background-color: #E2EBFA;\n",
              "      box-shadow: 0px 1px 2px rgba(60, 64, 67, 0.3), 0px 1px 3px 1px rgba(60, 64, 67, 0.15);\n",
              "      fill: #174EA6;\n",
              "    }\n",
              "\n",
              "    [theme=dark] .colab-df-convert {\n",
              "      background-color: #3B4455;\n",
              "      fill: #D2E3FC;\n",
              "    }\n",
              "\n",
              "    [theme=dark] .colab-df-convert:hover {\n",
              "      background-color: #434B5C;\n",
              "      box-shadow: 0px 1px 3px 1px rgba(0, 0, 0, 0.15);\n",
              "      filter: drop-shadow(0px 1px 2px rgba(0, 0, 0, 0.3));\n",
              "      fill: #FFFFFF;\n",
              "    }\n",
              "  </style>\n",
              "\n",
              "      <script>\n",
              "        const buttonEl =\n",
              "          document.querySelector('#df-ef8befb1-4561-4d15-b6a0-19b07c230f6e button.colab-df-convert');\n",
              "        buttonEl.style.display =\n",
              "          google.colab.kernel.accessAllowed ? 'block' : 'none';\n",
              "\n",
              "        async function convertToInteractive(key) {\n",
              "          const element = document.querySelector('#df-ef8befb1-4561-4d15-b6a0-19b07c230f6e');\n",
              "          const dataTable =\n",
              "            await google.colab.kernel.invokeFunction('convertToInteractive',\n",
              "                                                     [key], {});\n",
              "          if (!dataTable) return;\n",
              "\n",
              "          const docLinkHtml = 'Like what you see? Visit the ' +\n",
              "            '<a target=\"_blank\" href=https://colab.research.google.com/notebooks/data_table.ipynb>data table notebook</a>'\n",
              "            + ' to learn more about interactive tables.';\n",
              "          element.innerHTML = '';\n",
              "          dataTable['output_type'] = 'display_data';\n",
              "          await google.colab.output.renderOutput(dataTable, element);\n",
              "          const docLink = document.createElement('div');\n",
              "          docLink.innerHTML = docLinkHtml;\n",
              "          element.appendChild(docLink);\n",
              "        }\n",
              "      </script>\n",
              "    </div>\n",
              "  </div>\n",
              "  "
            ]
          },
          "metadata": {},
          "execution_count": 8
        }
      ]
    },
    {
      "cell_type": "code",
      "source": [
        "def probcal(val, mean, std_dev):\n",
        "  return (1/(math.sqrt(2*math.pi*(std_dev**2))))*(math.e)**((-1)*((val-mean)**2)/(2*(std_dev**2)))"
      ],
      "metadata": {
        "id": "uqULbkT7MCKU"
      },
      "execution_count": 9,
      "outputs": []
    },
    {
      "cell_type": "code",
      "source": [
        "#Calculating for Bathroom\n",
        "BR_Apt_mean = apartmentData['Bathrooms'].mean()\n",
        "print(BR_Apt_mean)\n",
        "\n",
        "BR_Apt_var = apartmentData['Bathrooms'].var()\n",
        "print(BR_Apt_var)\n",
        "\n",
        "BR_Apt_sd = math.sqrt(BR_Apt_var)\n",
        "print(BR_Apt_sd)\n",
        "\n",
        "BR_condo_mean = condoData['Bathrooms'].mean()\n",
        "print(BR_condo_mean)\n",
        "\n",
        "BR_condo_var = condoData['Bathrooms'].var()\n",
        "print(BR_condo_var)\n",
        "\n",
        "BR_condo_sd = math.sqrt(BR_condo_var)\n",
        "print(BR_condo_sd)\n",
        "\n",
        "BR_hse_mean = houseData['Bathrooms'].mean()\n",
        "print(BR_hse_mean)\n",
        "\n",
        "BR_hse_var = houseData['Bathrooms'].var()\n",
        "print(BR_hse_var)\n",
        "\n",
        "BR_hse_sd = math.sqrt(BR_hse_var)\n",
        "print(BR_hse_sd)"
      ],
      "metadata": {
        "id": "XHteo5qRrv1r",
        "colab": {
          "base_uri": "https://localhost:8080/"
        },
        "outputId": "60f0961f-edff-48d5-9332-dcca0f4990e8"
      },
      "execution_count": 10,
      "outputs": [
        {
          "output_type": "stream",
          "name": "stdout",
          "text": [
            "1.2857142857142858\n",
            "0.32142857142857145\n",
            "0.5669467095138409\n",
            "1.3333333333333333\n",
            "0.36666666666666675\n",
            "0.6055300708194984\n",
            "1.0714285714285714\n",
            "0.03571428571428572\n",
            "0.18898223650461363\n"
          ]
        }
      ]
    },
    {
      "cell_type": "code",
      "source": [
        "p_Bath_A = [probcal(x, BR_Apt_mean, BR_Apt_sd) for x in df_test['Bathrooms']]\n",
        "print(p_Bath_A)\n",
        "\n",
        "p_Bath_C = [probcal(x, BR_condo_mean, BR_condo_sd) for x in df_test['Bathrooms']]\n",
        "print(p_Bath_C)\n",
        "\n",
        "p_Bath_H = [probcal(x, BR_hse_mean, BR_hse_sd) for x in df_test['Bathrooms']]\n",
        "print(p_Bath_H)"
      ],
      "metadata": {
        "colab": {
          "base_uri": "https://localhost:8080/"
        },
        "id": "1TIA29ZnDrBV",
        "outputId": "213825ad-f271-4786-d551-4013774230cd"
      },
      "execution_count": 11,
      "outputs": [
        {
          "output_type": "stream",
          "name": "stdout",
          "text": [
            "[0.655159122187218, 0.655159122187218, 0.6197539752736433, 0.655159122187218, 0.655159122187218]\n",
            "[0.6343424891780471, 0.6343424891780471, 0.5662029872883696, 0.6343424891780471, 0.6343424891780471]\n",
            "[0.16133620692951756, 0.16133620692951756, 1.965477366561654, 0.16133620692951756, 0.16133620692951756]\n"
          ]
        }
      ]
    },
    {
      "cell_type": "code",
      "source": [
        "#Calculating for Rooms\n",
        "R_Apt_mean = apartmentData['# Rooms'].mean()\n",
        "print(R_Apt_mean)\n",
        "\n",
        "R_Apt_var = apartmentData['# Rooms'].var()\n",
        "print(R_Apt_var)\n",
        "\n",
        "R_Apt_sd = math.sqrt(R_Apt_var)\n",
        "print(R_Apt_sd)\n",
        "\n",
        "R_condo_mean = condoData['# Rooms'].mean()\n",
        "print(R_condo_mean)\n",
        "\n",
        "R_condo_var = condoData['# Rooms'].var()\n",
        "print(R_condo_var)\n",
        "\n",
        "R_condo_sd = math.sqrt(R_condo_var)\n",
        "print(R_condo_sd)\n",
        "\n",
        "R_hse_mean = houseData['# Rooms'].mean()\n",
        "print(R_hse_mean)\n",
        "\n",
        "R_hse_var = houseData['# Rooms'].var()\n",
        "print(R_hse_var)\n",
        "\n",
        "R_hse_sd = math.sqrt(R_hse_var)\n",
        "print(R_hse_sd)"
      ],
      "metadata": {
        "colab": {
          "base_uri": "https://localhost:8080/"
        },
        "id": "ZH6kXXXeMijJ",
        "outputId": "18aadb0b-e1fb-4dea-97df-c97dfdee37d1"
      },
      "execution_count": 12,
      "outputs": [
        {
          "output_type": "stream",
          "name": "stdout",
          "text": [
            "6.857142857142857\n",
            "1.8095238095238095\n",
            "1.3451854182690985\n",
            "6.833333333333333\n",
            "2.5666666666666673\n",
            "1.6020819787597222\n",
            "6.142857142857143\n",
            "0.4761904761904763\n",
            "0.6900655593423543\n"
          ]
        }
      ]
    },
    {
      "cell_type": "code",
      "source": [
        "p_R_A = [probcal(x, R_Apt_mean, R_Apt_sd) for x in df_test['# Rooms']]\n",
        "print(p_R_A)\n",
        "\n",
        "p_R_C = [probcal(x, R_condo_mean, R_condo_sd) for x in df_test['# Rooms']]\n",
        "print(p_R_C)\n",
        "\n",
        "p_R_H = [probcal(x, R_hse_mean, R_hse_sd) for x in df_test['# Rooms']]\n",
        "print(p_R_H)"
      ],
      "metadata": {
        "colab": {
          "base_uri": "https://localhost:8080/"
        },
        "id": "ywPV31o1NMw8",
        "outputId": "885e67ca-9455-4f2c-96e4-a4837586a029"
      },
      "execution_count": 13,
      "outputs": [
        {
          "output_type": "stream",
          "name": "stdout",
          "text": [
            "[0.24208220679655826, 0.2067235987252604, 0.2949027930731713, 0.2067235987252604, 0.24208220679655826]\n",
            "[0.21750706666186462, 0.19101676719028102, 0.2476710539275419, 0.19101676719028102, 0.21750706666186462]\n",
            "[0.5658657429025208, 0.015461558501499521, 0.2672960502890973, 0.015461558501499521, 0.5658657429025208]\n"
          ]
        }
      ]
    },
    {
      "cell_type": "code",
      "source": [
        "#Calculating for Local Price\n",
        "LP_Apt_mean = apartmentData['Local Price'].mean()\n",
        "print(LP_Apt_mean)\n",
        "\n",
        "LP_Apt_var = apartmentData['Local Price'].var()\n",
        "print(LP_Apt_var)\n",
        "\n",
        "LP_Apt_sd = math.sqrt(LP_Apt_var)\n",
        "print(LP_Apt_sd)\n",
        "\n",
        "LP_condo_mean = condoData['Local Price'].mean()\n",
        "print(LP_condo_mean)\n",
        "\n",
        "LP_condo_var = condoData['Local Price'].var()\n",
        "print(LP_condo_var)\n",
        "\n",
        "LP_condo_sd = math.sqrt(LP_condo_var)\n",
        "print(LP_condo_sd)\n",
        "\n",
        "LP_hse_mean = houseData['Local Price'].mean()\n",
        "print(LP_hse_mean)\n",
        "\n",
        "LP_hse_var = houseData['Local Price'].var()\n",
        "print(LP_hse_var)\n",
        "\n",
        "LP_hse_sd = math.sqrt(LP_hse_var)\n",
        "print(LP_hse_sd)"
      ],
      "metadata": {
        "colab": {
          "base_uri": "https://localhost:8080/"
        },
        "id": "QISUTKnJPqxK",
        "outputId": "44070045-c332-4ac9-f797-05ee530872f6"
      },
      "execution_count": 14,
      "outputs": [
        {
          "output_type": "stream",
          "name": "stdout",
          "text": [
            "7.332742857142857\n",
            "13.075436006190474\n",
            "3.615997235368201\n",
            "7.415900000000001\n",
            "21.263606808000006\n",
            "4.611247858009804\n",
            "5.760742857142858\n",
            "0.3250382628571429\n",
            "0.5701212703075924\n"
          ]
        }
      ]
    },
    {
      "cell_type": "code",
      "source": [
        "p_LP_A = [probcal(x, LP_Apt_mean, LP_Apt_sd) for x in df_test['Local Price']]\n",
        "print(p_LP_A)\n",
        "\n",
        "p_LP_C = [probcal(x, LP_condo_mean, LP_condo_sd) for x in df_test['Local Price']]\n",
        "print(p_LP_C)\n",
        "\n",
        "p_LP_H = [probcal(x, LP_hse_mean, LP_hse_sd) for x in df_test['Local Price']]\n",
        "print(p_LP_H)"
      ],
      "metadata": {
        "colab": {
          "base_uri": "https://localhost:8080/"
        },
        "id": "HJmnuSmcPq8P",
        "outputId": "9d64606c-1768-4bd0-be64-d4771ed4fd1a"
      },
      "execution_count": 15,
      "outputs": [
        {
          "output_type": "stream",
          "name": "stdout",
          "text": [
            "[0.104030659421769, 0.10595785224429283, 0.10761173097460622, 0.09735171295748794, 0.04796463038138255]\n",
            "[0.08302757866422468, 0.08471801076743375, 0.08545493617189354, 0.08066393223053595, 0.05278295004888359]\n",
            "[0.5904013268564853, 2.1328523148783713e-05, 0.00011563989763585457, 1.617372698750193e-08, 6.890042630928645e-27]\n"
          ]
        }
      ]
    },
    {
      "cell_type": "code",
      "source": [
        "#Calculating for Land Area\n",
        "LA_Apt_mean = apartmentData['Land Area'].mean()\n",
        "print(LA_Apt_mean)\n",
        "\n",
        "LA_Apt_var = apartmentData['Land Area'].var()\n",
        "print(LA_Apt_var)\n",
        "\n",
        "LA_Apt_sd = math.sqrt(LA_Apt_var)\n",
        "print(LA_Apt_sd)\n",
        "\n",
        "LA_condo_mean = condoData['Land Area'].mean()\n",
        "print(LA_condo_mean)\n",
        "\n",
        "LA_condo_var = condoData['Land Area'].var()\n",
        "print(LA_condo_var)\n",
        "\n",
        "LA_condo_sd = math.sqrt(LA_condo_var)\n",
        "print(LA_condo_sd)\n",
        "\n",
        "LA_hse_mean = houseData['Land Area'].mean()\n",
        "print(LA_hse_mean)\n",
        "\n",
        "LA_hse_var = houseData['Land Area'].var()\n",
        "print(LA_hse_var)\n",
        "\n",
        "LA_hse_sd = math.sqrt(LA_hse_var)\n",
        "print(LA_hse_sd)"
      ],
      "metadata": {
        "colab": {
          "base_uri": "https://localhost:8080/"
        },
        "id": "CjygaC2ERUP9",
        "outputId": "16b994a8-740c-4759-f1a3-7246ef67faf0"
      },
      "execution_count": 16,
      "outputs": [
        {
          "output_type": "stream",
          "name": "stdout",
          "text": [
            "6.103857142857143\n",
            "10.617884142857147\n",
            "3.25850949712551\n",
            "6.0246666666666675\n",
            "6.475891866666667\n",
            "2.5447773707471284\n",
            "6.6309\n",
            "5.057880536666667\n",
            "2.2489732183080053\n"
          ]
        }
      ]
    },
    {
      "cell_type": "code",
      "source": [
        "p_LandA_A = [probcal(x, LA_Apt_mean, LA_Apt_sd) for x in df_test['Land Area']]\n",
        "print(p_LandA_A)\n",
        "\n",
        "p_LandA_C = [probcal(x, LA_condo_mean, LA_condo_sd) for x in df_test['Land Area']]\n",
        "print(p_LandA_C)\n",
        "\n",
        "p_LandA_H = [probcal(x, LA_hse_mean, LA_hse_sd) for x in df_test['Land Area']]\n",
        "print(p_LandA_H)\n"
      ],
      "metadata": {
        "colab": {
          "base_uri": "https://localhost:8080/"
        },
        "id": "YamJ5qLkRUdJ",
        "outputId": "0668f04f-cfec-467a-a968-67e1cc6901fb"
      },
      "execution_count": 17,
      "outputs": [
        {
          "output_type": "stream",
          "name": "stdout",
          "text": [
            "[0.12021606660940737, 0.07909075948113442, 0.10336228736525278, 0.11411287805008329, 0.11560361546158884]\n",
            "[0.1509188868839599, 0.07374507802109002, 0.1159903302613669, 0.13754919421620768, 0.1445619531961421]\n",
            "[0.17722843680648953, 0.09472883824366111, 0.14738445823905671, 0.16911044219596208, 0.13637430090925043]\n"
          ]
        }
      ]
    },
    {
      "cell_type": "code",
      "source": [
        "#Calculating for Living Area\n",
        "LiA_Apt_mean = apartmentData['Living area'].mean()\n",
        "print(LiA_Apt_mean)\n",
        "\n",
        "LiA_Apt_var = apartmentData['Living area'].var()\n",
        "print(LiA_Apt_var)\n",
        "\n",
        "LiA_Apt_sd = math.sqrt(LiA_Apt_var)\n",
        "print(LiA_Apt_sd)\n",
        "\n",
        "LiA_condo_mean = condoData['Living area'].mean()\n",
        "print(LiA_condo_mean)\n",
        "\n",
        "LiA_condo_var = condoData['Living area'].var()\n",
        "print(LiA_condo_var)\n",
        "\n",
        "LiA_condo_sd = math.sqrt(LiA_condo_var)\n",
        "print(LiA_condo_sd)\n",
        "\n",
        "LiA_hse_mean = houseData['Living area'].mean()\n",
        "print(LiA_hse_mean)\n",
        "\n",
        "LiA_hse_var = houseData['Living area'].var()\n",
        "print(LiA_hse_var)\n",
        "\n",
        "LiA_hse_sd = math.sqrt(LiA_hse_var)\n",
        "print(LiA_hse_sd)"
      ],
      "metadata": {
        "colab": {
          "base_uri": "https://localhost:8080/"
        },
        "id": "N-8ra8CoTMdT",
        "outputId": "5a98f416-241d-4ac7-82f1-e34a494fd48b"
      },
      "execution_count": 18,
      "outputs": [
        {
          "output_type": "stream",
          "name": "stdout",
          "text": [
            "1.5050000000000001\n",
            "0.49576500000000007\n",
            "0.7041058159112166\n",
            "1.5533333333333335\n",
            "0.8527438666666667\n",
            "0.9234413173919969\n",
            "1.3917142857142857\n",
            "0.04533657142857142\n",
            "0.21292386298527327\n"
          ]
        }
      ]
    },
    {
      "cell_type": "code",
      "source": [
        "#Living Area\n",
        "p_LivingA_A = [probcal(x, LiA_Apt_mean, LiA_Apt_sd) for x in df_test['Living area']]\n",
        "print(p_LivingA_A)\n",
        "\n",
        "p_LivingA_C = [probcal(x, LiA_condo_mean, LiA_condo_sd) for x in df_test['Living area']]\n",
        "print(p_LivingA_C)\n",
        "\n",
        "p_LivingA_H = [probcal(x, LiA_hse_mean, LiA_hse_sd) for x in df_test['Living area']]\n",
        "print(p_LivingA_H)\n"
      ],
      "metadata": {
        "colab": {
          "base_uri": "https://localhost:8080/"
        },
        "id": "jGqKXM8CTMoV",
        "outputId": "987f484e-eb1e-4849-fbfc-c54aac616a09"
      },
      "execution_count": 19,
      "outputs": [
        {
          "output_type": "stream",
          "name": "stdout",
          "text": [
            "[0.5543796725242972, 0.5258559814408146, 0.5665936412343926, 0.5090058583530391, 0.5158539695850802]\n",
            "[0.42955795191803636, 0.41952870202310416, 0.4314008668797229, 0.41292190293772113, 0.4015223358609729]\n",
            "[0.8875483087028173, 0.3644875457695885, 1.6304112815824785, 0.22305590102536393, 1.2492357904339275]\n"
          ]
        }
      ]
    },
    {
      "cell_type": "code",
      "source": [
        "#Calculating for Garages\n",
        "G_Apt_mean = apartmentData['# Garages'].mean()\n",
        "print(G_Apt_mean)\n",
        "\n",
        "G_Apt_var = apartmentData['# Garages'].var()\n",
        "print(G_Apt_var)\n",
        "\n",
        "G_Apt_sd = math.sqrt(G_Apt_var)\n",
        "print(G_Apt_sd)\n",
        "\n",
        "G_condo_mean = condoData['# Garages'].mean()\n",
        "print(G_condo_mean)\n",
        "\n",
        "G_condo_var = condoData['# Garages'].var()\n",
        "print(G_condo_var)\n",
        "\n",
        "G_condo_sd = math.sqrt(G_condo_var)\n",
        "print(G_condo_sd)\n",
        "\n",
        "G_hse_mean = houseData['# Garages'].mean()\n",
        "print(G_hse_mean)\n",
        "\n",
        "G_hse_var = houseData['# Garages'].var()\n",
        "print(G_hse_var)\n",
        "\n",
        "G_hse_sd = math.sqrt(G_hse_var)\n",
        "print(G_hse_sd)"
      ],
      "metadata": {
        "colab": {
          "base_uri": "https://localhost:8080/"
        },
        "id": "m_r-UKRgUvB4",
        "outputId": "5d1c6f49-7c50-4d57-9a3b-389f9a25ef9f"
      },
      "execution_count": 20,
      "outputs": [
        {
          "output_type": "stream",
          "name": "stdout",
          "text": [
            "1.2142857142857142\n",
            "0.48809523809523814\n",
            "0.6986381310057719\n",
            "1.3333333333333333\n",
            "0.2666666666666667\n",
            "0.5163977794943223\n",
            "1.0714285714285714\n",
            "0.7023809523809524\n",
            "0.8380817098475258\n"
          ]
        }
      ]
    },
    {
      "cell_type": "code",
      "source": [
        "#Number of Garages\n",
        "p_G_A = [probcal(x, G_Apt_mean, G_Apt_sd) for x in df_test['# Garages']]\n",
        "print(p_G_A)\n",
        "\n",
        "p_G_C = [probcal(x, G_condo_mean, G_condo_sd) for x in df_test['# Garages']]\n",
        "print(p_G_C)\n",
        "\n",
        "p_G_H = [probcal(x, G_hse_mean, G_hse_sd) for x in df_test['# Garages']]\n",
        "print(p_G_H)"
      ],
      "metadata": {
        "colab": {
          "base_uri": "https://localhost:8080/"
        },
        "id": "1PK4jkIWUvMi",
        "outputId": "4caed590-cdcd-4cab-da76-ad15ca7ef7d1"
      },
      "execution_count": 21,
      "outputs": [
        {
          "output_type": "stream",
          "name": "stdout",
          "text": [
            "[0.5447902097516861, 0.3033948009056492, 0.3033948009056492, 0.5252190525210115, 0.3033948009056492]\n",
            "[0.6272601284059216, 0.3357481523835587, 0.3357481523835587, 0.7333413866660147, 0.3357481523835587]\n",
            "[0.4742926147813565, 0.25766362893434347, 0.25766362893434347, 0.41767591879226046, 0.25766362893434347]\n"
          ]
        }
      ]
    },
    {
      "cell_type": "code",
      "source": [
        "#Calculating for Bedrooms\n",
        "B_Apt_mean = apartmentData['# Bedrooms'].mean()\n",
        "print(B_Apt_mean)\n",
        "\n",
        "B_Apt_var = apartmentData['# Bedrooms'].var()\n",
        "print(B_Apt_var)\n",
        "\n",
        "B_Apt_sd = math.sqrt(B_Apt_var)\n",
        "print(B_Apt_sd)\n",
        "\n",
        "B_condo_mean = condoData['# Bedrooms'].mean()\n",
        "print(B_condo_mean)\n",
        "\n",
        "B_condo_var = condoData['# Bedrooms'].var()\n",
        "print(B_condo_var)\n",
        "\n",
        "B_condo_sd = math.sqrt(B_condo_var)\n",
        "print(B_condo_sd)\n",
        "\n",
        "B_hse_mean = houseData['# Bedrooms'].mean()\n",
        "print(B_hse_mean)\n",
        "\n",
        "B_hse_var = houseData['# Bedrooms'].var()\n",
        "print(B_hse_var)\n",
        "\n",
        "B_hse_sd = math.sqrt(B_hse_var)\n",
        "print(B_hse_sd)"
      ],
      "metadata": {
        "colab": {
          "base_uri": "https://localhost:8080/"
        },
        "id": "0StI-fGtV8vx",
        "outputId": "1642811e-6f4b-4663-df90-230fb541eede"
      },
      "execution_count": 22,
      "outputs": [
        {
          "output_type": "stream",
          "name": "stdout",
          "text": [
            "3.4285714285714284\n",
            "0.9523809523809524\n",
            "0.9759000729485332\n",
            "3.3333333333333335\n",
            "0.6666666666666666\n",
            "0.816496580927726\n",
            "3.0\n",
            "0.3333333333333333\n",
            "0.5773502691896257\n"
          ]
        }
      ]
    },
    {
      "cell_type": "code",
      "source": [
        "#Number of Bedrooms\n",
        "p_Bed_A = [probcal(x, B_Apt_mean, B_Apt_sd) for x in df_test['# Bedrooms']]\n",
        "print(p_Bed_A)\n",
        "\n",
        "p_Bed_C = [probcal(x, B_condo_mean, B_condo_sd) for x in df_test['# Bedrooms']]\n",
        "print(p_Bed_C)\n",
        "\n",
        "p_Bed_H = [probcal(x, B_hse_mean, B_hse_sd) for x in df_test['# Bedrooms']]\n",
        "print(p_Bed_H)"
      ],
      "metadata": {
        "colab": {
          "base_uri": "https://localhost:8080/"
        },
        "id": "bNQS8lfeV867",
        "outputId": "8ef2d4e3-f385-4770-e66e-a4f7a8a47df7"
      },
      "execution_count": 23,
      "outputs": [
        {
          "output_type": "stream",
          "name": "stdout",
          "text": [
            "[0.3712156855810032, 0.3443929343207638, 0.3712156855810032, 0.3443929343207638, 0.3712156855810032]\n",
            "[0.4495360120501389, 0.35009899820344476, 0.4495360120501389, 0.35009899820344476, 0.4495360120501389]\n",
            "[0.690988298942671, 0.1541803298037693, 0.690988298942671, 0.1541803298037693, 0.690988298942671]\n"
          ]
        }
      ]
    },
    {
      "cell_type": "code",
      "source": [
        "#Calculating for Age of Home\n",
        "Age_Apt_mean = apartmentData['Age of home'].mean()\n",
        "print(Age_Apt_mean)\n",
        "\n",
        "Age_Apt_var = apartmentData['Age of home'].var()\n",
        "print(Age_Apt_var)\n",
        "\n",
        "Age_Apt_sd = math.sqrt(Age_Apt_var)\n",
        "print(Age_Apt_sd)\n",
        "\n",
        "Age_condo_mean = condoData['Age of home'].mean()\n",
        "print(Age_condo_mean)\n",
        "\n",
        "Age_condo_var = condoData['Age of home'].var()\n",
        "print(Age_condo_var)\n",
        "\n",
        "Age_condo_sd = math.sqrt(Age_condo_var)\n",
        "print(Age_condo_sd)\n",
        "\n",
        "Age_hse_mean = houseData['Age of home'].mean()\n",
        "print(Age_hse_mean)\n",
        "\n",
        "Age_hse_var = houseData['Age of home'].var()\n",
        "print(Age_hse_var)\n",
        "\n",
        "Age_hse_sd = math.sqrt(Age_hse_var)\n",
        "print(Age_hse_sd)"
      ],
      "metadata": {
        "colab": {
          "base_uri": "https://localhost:8080/"
        },
        "id": "RWPV1n3GY98D",
        "outputId": "553d5ed7-56f9-4191-a963-4bc947512e58"
      },
      "execution_count": 24,
      "outputs": [
        {
          "output_type": "stream",
          "name": "stdout",
          "text": [
            "38.714285714285715\n",
            "215.57142857142856\n",
            "14.682350921137546\n",
            "39.666666666666664\n",
            "194.66666666666666\n",
            "13.9522996909709\n",
            "34.285714285714285\n",
            "161.9047619047619\n",
            "12.724180205607036\n"
          ]
        }
      ]
    },
    {
      "cell_type": "code",
      "source": [
        "#Calculating for Age of Home\n",
        "p_Age_A = [probcal(x, Age_Apt_mean, Age_Apt_sd) for x in df_test['Age of home']]\n",
        "print(p_Age_A)\n",
        "\n",
        "p_Age_C = [probcal(x, Age_condo_mean, Age_condo_sd) for x in df_test['Age of home']]\n",
        "print(p_Age_C)\n",
        "\n",
        "p_Age_H = [probcal(x, Age_hse_mean, Age_hse_sd) for x in df_test['Age of home']]\n",
        "print(p_Age_H)"
      ],
      "metadata": {
        "colab": {
          "base_uri": "https://localhost:8080/"
        },
        "id": "ry1KVcqBY-EU",
        "outputId": "ad9dddb5-6d39-43f8-db57-0154284356fc"
      },
      "execution_count": 25,
      "outputs": [
        {
          "output_type": "stream",
          "name": "stdout",
          "text": [
            "[0.02546662890532018, 0.022246396889061503, 0.0014101988936293236, 0.023668418857813782, 0.022783507450468816]\n",
            "[0.027246955908518125, 0.023922150258416267, 0.000904815748946223, 0.023576489886851435, 0.02249202907637942]\n",
            "[0.023426878989545683, 0.017539794542178463, 0.0015258635445194815, 0.030324994492146016, 0.029624150391064537]\n"
          ]
        }
      ]
    },
    {
      "cell_type": "code",
      "source": [
        "MAP = []\n",
        "for i in range(0, 5):\n",
        "  total_prob_Apt = p_LP_A[i] * p_LandA_A[i] * p_Bath_A[i] * p_LivingA_A[i] * p_G_A[i] * p_R_A[i] * p_Bed_A[i] * p_Age_A[i] * apt_probab\n",
        "  total_prob_Con = p_LP_C[i] * p_LandA_C[i] * p_Bath_C[i] * p_LivingA_C[i] * p_G_C[i] * p_R_C[i] * p_Bed_C[i] * p_Age_C[i] * condo_probab\n",
        "  total_prob_Hos = p_LP_H[i] * p_LandA_H[i] * p_Bath_H[i] * p_LivingA_H[i] * p_G_H[i] * p_R_H[i] * p_Bed_H[i] * p_Age_H[i] * house_probab\n",
        "  lst = []\n",
        "  lst.append(total_prob_Apt)\n",
        "  lst.append(total_prob_Con)\n",
        "  lst.append(total_prob_Hos)\n",
        "  MAP.append(lst)\n",
        "\n",
        "misclassify = 0\n",
        "for i in range(0, 5):\n",
        "  probab = MAP[i]\n",
        "  clss = \"\"\n",
        "  if np.argmax(MAP[i]) == 0:\n",
        "    clss = \"APARTMENT\"\n",
        "    print(\"\")\n",
        "    print(\"The predicted class for\",i,\"is\", clss, \"and the actual class is\",(df_test[\"Construction type\"][i]).upper())\n",
        "    print(\"The probability of APARTMENT is\",MAP[0][0])\n",
        "    print(\"The probability of CONDO is\",MAP[0][1])\n",
        "    print(\"The probability of HOUSE is\",MAP[0][2])\n",
        "  if np.argmax(MAP[i]) == 1:\n",
        "    clss = \"CONDO\"\n",
        "    print(\"\")\n",
        "    print(\"The predicted class for\",i,\"is\", clss, \"and the actual class is\",(df_test[\"Construction type\"][i]).upper())\n",
        "    print(\"The probability of APARTMENT is\",MAP[1][0])\n",
        "    print(\"The probability of CONDO is\",MAP[1][1])\n",
        "    print(\"The probability of HOUSE is\",MAP[1][2])\n",
        "  if np.argmax(MAP[i]) == 2:\n",
        "    clss = \"HOUSE\"\n",
        "    print(\"\")\n",
        "    print(\"The predicted class for\",i,\"is\", clss, \"and the actual class is\",(df_test[\"Construction type\"][i]).upper())\n",
        "    print(\"The probability of APARTMENT is\",MAP[2][0])\n",
        "    print(\"The probability of CONDO is\",MAP[2][1])\n",
        "    print(\"The probability of HOUSE is\",MAP[2][2])\n",
        "  if clss.lower() != (df_test[\"Construction type\"][i]).lower():\n",
        "    misclassify += 1 \n",
        "print(\"# Misclassified: \", misclassify, \"vs Correct: \", 5-misclassify) "
      ],
      "metadata": {
        "colab": {
          "base_uri": "https://localhost:8080/"
        },
        "id": "Ct2QE7oDSuct",
        "outputId": "1f38b5b6-7c7a-4679-d989-65392269ae89"
      },
      "execution_count": 33,
      "outputs": [
        {
          "output_type": "stream",
          "name": "stdout",
          "text": [
            "\n",
            "The predicted class for 0 is HOUSE and the actual class is APARTMENT\n",
            "The probability of APARTMENT is 6.40286726974593e-08\n",
            "The probability of CONDO is 2.4566703656852764e-08\n",
            "The probability of HOUSE is 1.38811261786474e-09\n",
            "\n",
            "The predicted class for 1 is APARTMENT and the actual class is HOUSE\n",
            "The probability of APARTMENT is 1.982147379161192e-06\n",
            "The probability of CONDO is 1.7117341592585917e-06\n",
            "The probability of HOUSE is 2.2783346320526746e-05\n",
            "\n",
            "The predicted class for 2 is APARTMENT and the actual class is HOUSE\n",
            "The probability of APARTMENT is 1.982147379161192e-06\n",
            "The probability of CONDO is 1.7117341592585917e-06\n",
            "The probability of HOUSE is 2.2783346320526746e-05\n",
            "\n",
            "The predicted class for 3 is APARTMENT and the actual class is APARTMENT\n",
            "The probability of APARTMENT is 1.982147379161192e-06\n",
            "The probability of CONDO is 1.7117341592585917e-06\n",
            "The probability of HOUSE is 2.2783346320526746e-05\n",
            "\n",
            "The predicted class for 4 is CONDO and the actual class is APARTMENT\n",
            "The probability of APARTMENT is 4.855709005221052e-07\n",
            "The probability of CONDO is 2.67911729774906e-07\n",
            "The probability of HOUSE is 4.48007655388129e-13\n",
            "# Misclassified:  4 vs Correct:  1\n"
          ]
        }
      ]
    },
    {
      "cell_type": "markdown",
      "source": [
        "**Question 2**"
      ],
      "metadata": {
        "id": "es18sqqjiLiH"
      }
    },
    {
      "cell_type": "code",
      "source": [
        "df_train = pd.read_excel(\"/content/drive/MyDrive/ML Practice/OSU_ML/Assignment4/Asssignment4_Data.xlsx\", \"Train\")\n",
        "df_test = pd.read_excel(\"/content/drive/MyDrive/ML Practice/OSU_ML/Assignment4/Asssignment4_Data.xlsx\", \"Test\")"
      ],
      "metadata": {
        "id": "lLbXt7C5ZjO6"
      },
      "execution_count": 34,
      "outputs": []
    },
    {
      "cell_type": "markdown",
      "source": [
        "**Getting Train and Test sets**"
      ],
      "metadata": {
        "id": "gRvhTou7Bc3h"
      }
    },
    {
      "cell_type": "code",
      "source": [
        "x_train = df_train[['Local Price', 'Bathrooms', 'Land Area', 'Living area', '# Garages', '# Rooms', '# Bedrooms', 'Age of home']]\n",
        "y_train = df_train['Construction type']\n",
        "x_test = df_test[['Local Price', 'Bathrooms', 'Land Area', 'Living area', '# Garages', '# Rooms', '# Bedrooms', 'Age of home']]\n",
        "y_test = df_test['Construction type']"
      ],
      "metadata": {
        "id": "xA8-1H8dZ9w_"
      },
      "execution_count": 35,
      "outputs": []
    },
    {
      "cell_type": "code",
      "source": [
        "decision_tree = DT()\n",
        "decision_tree.fit(x_train, y_train)"
      ],
      "metadata": {
        "colab": {
          "base_uri": "https://localhost:8080/"
        },
        "id": "8S2Sauk9aQle",
        "outputId": "ff2a7f07-4f7d-414f-b308-8e8e8f561e6a"
      },
      "execution_count": 36,
      "outputs": [
        {
          "output_type": "execute_result",
          "data": {
            "text/plain": [
              "DecisionTreeClassifier()"
            ]
          },
          "metadata": {},
          "execution_count": 36
        }
      ]
    },
    {
      "cell_type": "code",
      "source": [
        "features= ['Local Price', 'Bathrooms', 'Land Area', 'Living area', '# Garages', '# Rooms', '# Bedrooms', 'Age of home']\n",
        "classes = ['Apartment', 'Condo', 'House']\n",
        "plt.subplots(figsize = (3, 3), dpi=250)\n",
        "tree.plot_tree(decision_tree,feature_names = features, class_names = classes, filled=True)"
      ],
      "metadata": {
        "colab": {
          "base_uri": "https://localhost:8080/",
          "height": 928
        },
        "id": "kXEGP96ZaVMP",
        "outputId": "b9f4b948-4723-49fb-d654-728dc9925da4"
      },
      "execution_count": 37,
      "outputs": [
        {
          "output_type": "execute_result",
          "data": {
            "text/plain": [
              "[Text(0.5, 0.9166666666666666, 'Age of home <= 36.0\\ngini = 0.665\\nsamples = 20\\nvalue = [7, 6, 7]\\nclass = Apartment'),\n",
              " Text(0.3, 0.75, 'Local Price <= 8.411\\ngini = 0.56\\nsamples = 10\\nvalue = [2, 2, 6]\\nclass = House'),\n",
              " Text(0.2, 0.5833333333333334, 'Age of home <= 19.5\\ngini = 0.375\\nsamples = 8\\nvalue = [0, 2, 6]\\nclass = House'),\n",
              " Text(0.1, 0.4166666666666667, 'gini = 0.0\\nsamples = 1\\nvalue = [0, 1, 0]\\nclass = Condo'),\n",
              " Text(0.3, 0.4166666666666667, '# Garages <= 1.75\\ngini = 0.245\\nsamples = 7\\nvalue = [0, 1, 6]\\nclass = House'),\n",
              " Text(0.2, 0.25, 'gini = 0.0\\nsamples = 5\\nvalue = [0, 0, 5]\\nclass = House'),\n",
              " Text(0.4, 0.25, 'Land Area <= 6.55\\ngini = 0.5\\nsamples = 2\\nvalue = [0, 1, 1]\\nclass = Condo'),\n",
              " Text(0.3, 0.08333333333333333, 'gini = 0.0\\nsamples = 1\\nvalue = [0, 0, 1]\\nclass = House'),\n",
              " Text(0.5, 0.08333333333333333, 'gini = 0.0\\nsamples = 1\\nvalue = [0, 1, 0]\\nclass = Condo'),\n",
              " Text(0.4, 0.5833333333333334, 'gini = 0.0\\nsamples = 2\\nvalue = [2, 0, 0]\\nclass = Apartment'),\n",
              " Text(0.7, 0.75, 'Local Price <= 4.55\\ngini = 0.58\\nsamples = 10\\nvalue = [5, 4, 1]\\nclass = Apartment'),\n",
              " Text(0.6, 0.5833333333333334, 'gini = 0.0\\nsamples = 2\\nvalue = [0, 2, 0]\\nclass = Condo'),\n",
              " Text(0.8, 0.5833333333333334, 'Land Area <= 5.5\\ngini = 0.531\\nsamples = 8\\nvalue = [5, 2, 1]\\nclass = Apartment'),\n",
              " Text(0.7, 0.4166666666666667, 'Age of home <= 58.0\\ngini = 0.278\\nsamples = 6\\nvalue = [5, 0, 1]\\nclass = Apartment'),\n",
              " Text(0.6, 0.25, 'gini = 0.0\\nsamples = 5\\nvalue = [5, 0, 0]\\nclass = Apartment'),\n",
              " Text(0.8, 0.25, 'gini = 0.0\\nsamples = 1\\nvalue = [0, 0, 1]\\nclass = House'),\n",
              " Text(0.9, 0.4166666666666667, 'gini = 0.0\\nsamples = 2\\nvalue = [0, 2, 0]\\nclass = Condo')]"
            ]
          },
          "metadata": {},
          "execution_count": 37
        },
        {
          "output_type": "display_data",
          "data": {
            "text/plain": [
              "<Figure size 750x750 with 1 Axes>"
            ],
            "image/png": "[encoded data removed]"
          },
          "metadata": {
            "needs_background": "light"
          }
        }
      ]
    },
    {
      "cell_type": "code",
      "execution_count": 39,
      "metadata": {
        "colab": {
          "base_uri": "https://localhost:8080/"
        },
        "id": "7Ck5UNfzZQ64",
        "outputId": "2c82d970-9e4d-44f1-a3a6-09062d08fc10"
      },
      "outputs": [
        {
          "output_type": "stream",
          "name": "stdout",
          "text": [
            "Training Accuracy:  1.0\n"
          ]
        }
      ],
      "source": [
        "train_accuracy = decision_tree.score(x_train, y_train)\n",
        "print(\"Training Accuracy: \", train_accuracy)"
      ]
    },
    {
      "cell_type": "markdown",
      "source": [
        "**2.1** It is the training data, so the accuracy is 100%"
      ],
      "metadata": {
        "id": "uCDcfEr9l7TY"
      }
    },
    {
      "cell_type": "code",
      "source": [
        "test_accuracy = decision_tree.score(x_test, y_test)\n",
        "print(\"Test Accuracy: \", test_accuracy)"
      ],
      "metadata": {
        "colab": {
          "base_uri": "https://localhost:8080/"
        },
        "id": "L072H5wPay49",
        "outputId": "93c1fc40-6a90-4020-b41a-c946113c205e"
      },
      "execution_count": 40,
      "outputs": [
        {
          "output_type": "stream",
          "name": "stdout",
          "text": [
            "Test Accuracy:  0.4\n"
          ]
        }
      ]
    },
    {
      "cell_type": "markdown",
      "source": [
        "**2.1** It is the test data, so the accuracy falls down to 40%"
      ],
      "metadata": {
        "id": "3Bnf4l9BmKhC"
      }
    },
    {
      "cell_type": "markdown",
      "source": [
        "**2.2** Testing with different depths"
      ],
      "metadata": {
        "id": "ycpIM5TJmU5J"
      }
    },
    {
      "cell_type": "code",
      "source": [
        "lst_train_acc = []\n",
        "lst_test_acc = []\n",
        "for depth in range(1, 10):\n",
        "  x_DT = DT(max_depth = depth)\n",
        "  x_DT.fit(x_train, y_train)\n",
        "  tr_acc = x_DT.score(x_train, y_train)\n",
        "  tst_acc = x_DT.score(x_test, y_test)\n",
        "  lst_train_acc.append(tr_acc)\n",
        "  lst_test_acc.append(tst_acc)\n",
        "  print(\"Depth\", depth, \"\\tTraining Accuracy: \", tr_acc*100, \"%\\tTest Accuracy: \", tst_acc)"
      ],
      "metadata": {
        "colab": {
          "base_uri": "https://localhost:8080/"
        },
        "id": "D-TBrneXa2ow",
        "outputId": "8959af8d-f2b8-4f1a-aee3-7ef1171a7980"
      },
      "execution_count": 41,
      "outputs": [
        {
          "output_type": "stream",
          "name": "stdout",
          "text": [
            "Depth 1 \tTraining Accuracy:  55.00000000000001 %\tTest Accuracy:  0.4\n",
            "Depth 2 \tTraining Accuracy:  75.0 %\tTest Accuracy:  0.8\n",
            "Depth 3 \tTraining Accuracy:  90.0 %\tTest Accuracy:  0.4\n",
            "Depth 4 \tTraining Accuracy:  95.0 %\tTest Accuracy:  0.4\n",
            "Depth 5 \tTraining Accuracy:  100.0 %\tTest Accuracy:  0.4\n",
            "Depth 6 \tTraining Accuracy:  100.0 %\tTest Accuracy:  0.4\n",
            "Depth 7 \tTraining Accuracy:  100.0 %\tTest Accuracy:  0.4\n",
            "Depth 8 \tTraining Accuracy:  100.0 %\tTest Accuracy:  0.4\n",
            "Depth 9 \tTraining Accuracy:  100.0 %\tTest Accuracy:  0.4\n"
          ]
        }
      ]
    },
    {
      "cell_type": "code",
      "source": [
        "plt.plot(range(1,10), lst_train_acc,label=\"Train\")\n",
        "plt.plot(range(1,10), lst_test_acc,label=\"Test\")\n",
        "plt.xlabel(\"Depth\")\n",
        "plt.ylabel(\"Accuracy\")\n",
        "plt.title(\"Accuracy vs Depths\")"
      ],
      "metadata": {
        "colab": {
          "base_uri": "https://localhost:8080/",
          "height": 312
        },
        "id": "AWmNrwn_a9dJ",
        "outputId": "996f5927-2a7b-4b12-a163-38c499faf948"
      },
      "execution_count": 42,
      "outputs": [
        {
          "output_type": "execute_result",
          "data": {
            "text/plain": [
              "Text(0.5, 1.0, 'Accuracy vs Depths')"
            ]
          },
          "metadata": {},
          "execution_count": 42
        },
        {
          "output_type": "display_data",
          "data": {
            "text/plain": [
              "<Figure size 432x288 with 1 Axes>"
            ],
            "image/png": "[encoded data removed]"
          },
          "metadata": {
            "needs_background": "light"
          }
        }
      ]
    },
    {
      "cell_type": "markdown",
      "source": [
        "**2.2** The maximum prediction is 80% at depth 2"
      ],
      "metadata": {
        "id": "OqYgCbt3F7rR"
      }
    },
    {
      "cell_type": "markdown",
      "source": [
        "**2.3** As the depth increases, the test accuracy actually fells down as the depth increases. This is because more classifications are needed and there is high chance of mis prediction. The maximum correct prediction I got is 80% at depth 2"
      ],
      "metadata": {
        "id": "WCoLGAh-n1gF"
      }
    },
    {
      "cell_type": "markdown",
      "source": [
        "**2.4**"
      ],
      "metadata": {
        "id": "JSDoOjrWoOa0"
      }
    },
    {
      "cell_type": "code",
      "source": [
        "dt_2 = DT(max_depth=2)\n",
        "dt_2.fit(x_train, y_train)\n",
        "features= ['Local Price', 'Bathrooms', 'Land Area', 'Living area', '# Garages', '# Rooms', '# Bedrooms', 'Age of home']\n",
        "classes = ['Apartment', 'Condo', 'House']\n",
        "plt.subplots(figsize = (3, 3), dpi=250)\n",
        "tree.plot_tree(decision_tree,feature_names = features, class_names = classes, filled=True)"
      ],
      "metadata": {
        "colab": {
          "base_uri": "https://localhost:8080/",
          "height": 928
        },
        "id": "gn28D25AbEo3",
        "outputId": "388c0659-145f-496d-8cce-2f53f0a74163"
      },
      "execution_count": 43,
      "outputs": [
        {
          "output_type": "execute_result",
          "data": {
            "text/plain": [
              "[Text(0.5, 0.9166666666666666, 'Age of home <= 36.0\\ngini = 0.665\\nsamples = 20\\nvalue = [7, 6, 7]\\nclass = Apartment'),\n",
              " Text(0.3, 0.75, 'Local Price <= 8.411\\ngini = 0.56\\nsamples = 10\\nvalue = [2, 2, 6]\\nclass = House'),\n",
              " Text(0.2, 0.5833333333333334, 'Age of home <= 19.5\\ngini = 0.375\\nsamples = 8\\nvalue = [0, 2, 6]\\nclass = House'),\n",
              " Text(0.1, 0.4166666666666667, 'gini = 0.0\\nsamples = 1\\nvalue = [0, 1, 0]\\nclass = Condo'),\n",
              " Text(0.3, 0.4166666666666667, '# Garages <= 1.75\\ngini = 0.245\\nsamples = 7\\nvalue = [0, 1, 6]\\nclass = House'),\n",
              " Text(0.2, 0.25, 'gini = 0.0\\nsamples = 5\\nvalue = [0, 0, 5]\\nclass = House'),\n",
              " Text(0.4, 0.25, 'Land Area <= 6.55\\ngini = 0.5\\nsamples = 2\\nvalue = [0, 1, 1]\\nclass = Condo'),\n",
              " Text(0.3, 0.08333333333333333, 'gini = 0.0\\nsamples = 1\\nvalue = [0, 0, 1]\\nclass = House'),\n",
              " Text(0.5, 0.08333333333333333, 'gini = 0.0\\nsamples = 1\\nvalue = [0, 1, 0]\\nclass = Condo'),\n",
              " Text(0.4, 0.5833333333333334, 'gini = 0.0\\nsamples = 2\\nvalue = [2, 0, 0]\\nclass = Apartment'),\n",
              " Text(0.7, 0.75, 'Local Price <= 4.55\\ngini = 0.58\\nsamples = 10\\nvalue = [5, 4, 1]\\nclass = Apartment'),\n",
              " Text(0.6, 0.5833333333333334, 'gini = 0.0\\nsamples = 2\\nvalue = [0, 2, 0]\\nclass = Condo'),\n",
              " Text(0.8, 0.5833333333333334, 'Land Area <= 5.5\\ngini = 0.531\\nsamples = 8\\nvalue = [5, 2, 1]\\nclass = Apartment'),\n",
              " Text(0.7, 0.4166666666666667, 'Age of home <= 58.0\\ngini = 0.278\\nsamples = 6\\nvalue = [5, 0, 1]\\nclass = Apartment'),\n",
              " Text(0.6, 0.25, 'gini = 0.0\\nsamples = 5\\nvalue = [5, 0, 0]\\nclass = Apartment'),\n",
              " Text(0.8, 0.25, 'gini = 0.0\\nsamples = 1\\nvalue = [0, 0, 1]\\nclass = House'),\n",
              " Text(0.9, 0.4166666666666667, 'gini = 0.0\\nsamples = 2\\nvalue = [0, 2, 0]\\nclass = Condo')]"
            ]
          },
          "metadata": {},
          "execution_count": 43
        },
        {
          "output_type": "display_data",
          "data": {
            "text/plain": [
              "<Figure size 750x750 with 1 Axes>"
            ],
            "image/png": "[encoded data removed]"
          },
          "metadata": {
            "needs_background": "light"
          }
        }
      ]
    },
    {
      "cell_type": "code",
      "source": [
        "print(\"The Predicted Class for the above values is : \", dt_2.predict([[9.0384, 1,7.8,1.5,1.5,7,3,23]]))"
      ],
      "metadata": {
        "colab": {
          "base_uri": "https://localhost:8080/"
        },
        "id": "Bbp_keSqbTFl",
        "outputId": "37c6af5b-b7e5-4167-edda-fb00f7090a6f"
      },
      "execution_count": 45,
      "outputs": [
        {
          "output_type": "stream",
          "name": "stdout",
          "text": [
            "The Predicted Class for the above values is :  ['Apartment']\n"
          ]
        },
        {
          "output_type": "stream",
          "name": "stderr",
          "text": [
            "/usr/local/lib/python3.7/dist-packages/sklearn/base.py:451: UserWarning: X does not have valid feature names, but DecisionTreeClassifier was fitted with feature names\n",
            "  \"X does not have valid feature names, but\"\n"
          ]
        }
      ]
    },
    {
      "cell_type": "markdown",
      "source": [
        "**Question 3**"
      ],
      "metadata": {
        "id": "m6dIA3ngoc8M"
      }
    },
    {
      "cell_type": "code",
      "source": [
        "df_train = pd.read_excel(\"/content/drive/MyDrive/ML Practice/OSU_ML/Assignment4/Asssignment4_Data.xlsx\", \"Train\")\n",
        "df_test = pd.read_excel(\"/content/drive/MyDrive/ML Practice/OSU_ML/Assignment4/Asssignment4_Data.xlsx\", \"Test\")"
      ],
      "metadata": {
        "id": "GJqj3M5Bbnn0"
      },
      "execution_count": 46,
      "outputs": []
    },
    {
      "cell_type": "code",
      "source": [
        "x_train = df_train[['Local Price', 'Bathrooms', 'Land Area', 'Living area', '# Garages', '# Rooms', '# Bedrooms', 'Age of home']]\n",
        "y_train = df_train['Construction type']\n",
        "x_test = df_test[['Local Price', 'Bathrooms', 'Land Area', 'Living area', '# Garages', '# Rooms', '# Bedrooms', 'Age of home']]\n",
        "y_test = df_test['Construction type']"
      ],
      "metadata": {
        "id": "n_5KtYckc-ua"
      },
      "execution_count": 55,
      "outputs": []
    },
    {
      "cell_type": "code",
      "source": [
        "def euclidean_distance(point1, training_lst, no_neighbours):\n",
        "  dist_lst = []\n",
        "  row_num = 0\n",
        "  for j in training_lst:\n",
        "    d = 0\n",
        "    for i in range(0, 8):\n",
        "      d = d + (point1[i] - j[i])**2\n",
        "    dist_lst.append([row_num, math.sqrt(d), y_train[row_num]])\n",
        "    row_num += 1\n",
        "  dist_lst = sorted(dist_lst, key=itemgetter(1), reverse=False)\n",
        "  return dist_lst[0:no_neighbours]"
      ],
      "metadata": {
        "id": "61Qjjdeedaq7"
      },
      "execution_count": 56,
      "outputs": []
    },
    {
      "cell_type": "code",
      "source": [
        "def get_class(most_closest_pt):\n",
        "  apt, condo, house = 0, 0, 0\n",
        "  for i in range(len(most_closest_pt)):\n",
        "    if most_closest_pt[i][2].lower() == \"Apartment\".lower():\n",
        "      apt += 1\n",
        "    if most_closest_pt[i][2].lower() == \"Condo\".lower():\n",
        "      condo += 1\n",
        "    if most_closest_pt[i][2].lower() == \"House\".lower():\n",
        "      house += 1\n",
        "  if apt > condo and apt > house:\n",
        "    return \"APARTMENT\"  \n",
        "  elif house > condo and house > apt:\n",
        "    return \"HOUSE\"\n",
        "  elif condo > apt and condo > house:\n",
        "    return \"CONDO\"\n",
        "  elif condo == apt and apt == house:\n",
        "    return random.choice([\"APARTMENT\", \"HOUSE\", \"CONDO\"])\n",
        "  elif condo == apt:\n",
        "    return random.choice([\"APARTMENT\", \"CONDO\"])\n",
        "  elif apt == house:\n",
        "    return random.choice([\"APARTMENT\", \"HOUSE\"])\n",
        "  elif condo == house:\n",
        "    return random.choice([\"HOUSE\", \"CONDO\"])"
      ],
      "metadata": {
        "id": "LUtcydcLdd1t"
      },
      "execution_count": 57,
      "outputs": []
    },
    {
      "cell_type": "code",
      "source": [
        "def predict_class(test_point, traning_set, no_neighbour):\n",
        "  most_closest_pt = euclidean_distance(test_point, traning_set, no_neighbour)\n",
        "  #print(most_closest_pt)\n",
        "  class_predicted = get_class(most_closest_pt)\n",
        "  return class_predicted"
      ],
      "metadata": {
        "id": "DY3_idl5dkZR"
      },
      "execution_count": 58,
      "outputs": []
    },
    {
      "cell_type": "code",
      "source": [
        "def evaluate(x_train_lst, x_test_lst, y_train, y_test, neighbours):\n",
        "  accuracy = 0\n",
        "  correct_classified = 0\n",
        "  misclassified = 0\n",
        "  for i in range(len(x_test_lst)):\n",
        "    predicted = predict_class(x_test_lst[i], x_train_lst, neighbours)\n",
        "    if predicted.lower() == y_test[i].lower():\n",
        "      correct_classified += 1\n",
        "    elif predicted.lower() != y_test[i].lower():\n",
        "      misclassified += 1\n",
        "    accuracy=correct_classified/len(x_test_lst)\n",
        "    #print(correct_classified/len(x_test_lst))\n",
        "  return accuracy"
      ],
      "metadata": {
        "id": "P-46A1AWdofh"
      },
      "execution_count": 59,
      "outputs": []
    },
    {
      "cell_type": "code",
      "source": [
        "acc_values= []\n",
        "k_values = []\n",
        "for i in range(1, 15):\n",
        "  acc = evaluate(x_train.values.tolist(), x_test.values.tolist(), y_train, y_test, i)\n",
        "  acc_values.append(acc)\n",
        "  k_values.append(i)\n",
        "#print(acc)\n",
        "#predicted, acc = predict_class(x_test_lst[4], x_train_lst, 6)\n",
        "#print(predicted)\n",
        "\n",
        "print(k_values)\n",
        "print(acc_values)"
      ],
      "metadata": {
        "colab": {
          "base_uri": "https://localhost:8080/"
        },
        "id": "l25FlJN7drE0",
        "outputId": "2c9188e1-6c48-4c93-e81b-dc903731d416"
      },
      "execution_count": 60,
      "outputs": [
        {
          "output_type": "stream",
          "name": "stdout",
          "text": [
            "[1, 2, 3, 4, 5, 6, 7, 8, 9, 10, 11, 12, 13, 14]\n",
            "[0.2, 0.2, 0.2, 0.2, 0.2, 0.4, 0.4, 0.4, 0.4, 0.4, 0.4, 0.4, 0.2, 0.4]\n"
          ]
        }
      ]
    },
    {
      "cell_type": "code",
      "source": [
        "plt.plot(k_values, acc_values)\n",
        "plt.xlabel(\"K values\")\n",
        "plt.ylabel(\"Accuracy\")\n",
        "plt.title(\"Accuracy vs K values\")"
      ],
      "metadata": {
        "id": "sEJBuM3Jdun8",
        "outputId": "214ca234-77e1-4fbd-8274-38d464036e3f",
        "colab": {
          "base_uri": "https://localhost:8080/",
          "height": 312
        }
      },
      "execution_count": 61,
      "outputs": [
        {
          "output_type": "execute_result",
          "data": {
            "text/plain": [
              "Text(0.5, 1.0, 'Accuracy vs K values')"
            ]
          },
          "metadata": {},
          "execution_count": 61
        },
        {
          "output_type": "display_data",
          "data": {
            "text/plain": [
              "<Figure size 432x288 with 1 Axes>"
            ],
            "image/png": "[encoded data removed]"
          },
          "metadata": {
            "needs_background": "light"
          }
        }
      ]
    },
    {
      "cell_type": "code",
      "source": [],
      "metadata": {
        "id": "Hpu-vUlxQagS"
      },
      "execution_count": null,
      "outputs": []
    }
  ]
}